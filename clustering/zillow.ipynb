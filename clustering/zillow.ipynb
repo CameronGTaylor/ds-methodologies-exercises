{
 "cells": [
  {
   "cell_type": "code",
   "execution_count": 1,
   "metadata": {},
   "outputs": [],
   "source": [
    "import env\n",
    "import pandas as pd\n",
    "import numpy as np\n",
    "import wrangle_zillow\n",
    "from sklearn.impute import KNNImputer"
   ]
  },
  {
   "cell_type": "code",
   "execution_count": 2,
   "metadata": {},
   "outputs": [],
   "source": [
    "# url = env.get_db_url('zillow')\n",
    "# query = '''\n",
    "# SELECT * FROM predictions_2017\n",
    "# LEFT JOIN properties_2017 USING (parcelid)\n",
    "# LEFT JOIN airconditioningtype USING (airconditioningtypeid)\n",
    "# LEFT JOIN architecturalstyletype USING (architecturalstyletypeid)\n",
    "# LEFT JOIN buildingclasstype USING (buildingclasstypeid)\n",
    "# LEFT JOIN heatingorsystemtype USING (heatingorsystemtypeid)\n",
    "# LEFT JOIN propertylandusetype USING (propertylandusetypeid)\n",
    "# LEFT JOIN storytype USING (storytypeid)\n",
    "# LEFT JOIN typeconstructiontype USING (typeconstructiontypeid)\n",
    "# WHERE (latitude IS NOT NULL AND \n",
    "# \t\tlongitude IS NOT NULL)'''\n",
    "# df_orig = pd.read_sql(query, url)"
   ]
  },
  {
   "cell_type": "code",
   "execution_count": 3,
   "metadata": {},
   "outputs": [],
   "source": [
    "# df = df_orig.copy()"
   ]
  },
  {
   "cell_type": "code",
   "execution_count": 4,
   "metadata": {},
   "outputs": [],
   "source": [
    "# new_dates = \\\n",
    "# df.groupby(by='parcelid').transactiondate.max().reset_index()"
   ]
  },
  {
   "cell_type": "code",
   "execution_count": 5,
   "metadata": {},
   "outputs": [],
   "source": [
    "# df.drop(columns=['parcelid','transactiondate'], inplace=True)"
   ]
  },
  {
   "cell_type": "code",
   "execution_count": 6,
   "metadata": {},
   "outputs": [],
   "source": [
    "# df = new_dates.join(df, how='left')"
   ]
  },
  {
   "cell_type": "code",
   "execution_count": 7,
   "metadata": {},
   "outputs": [],
   "source": [
    "df = wrangle_zillow.get_zillow_data()"
   ]
  },
  {
   "cell_type": "code",
   "execution_count": 8,
   "metadata": {},
   "outputs": [
    {
     "data": {
      "text/plain": [
       "(77381, 67)"
      ]
     },
     "execution_count": 8,
     "metadata": {},
     "output_type": "execute_result"
    }
   ],
   "source": [
    "df.shape"
   ]
  },
  {
   "cell_type": "code",
   "execution_count": 9,
   "metadata": {},
   "outputs": [
    {
     "data": {
      "text/plain": [
       "True"
      ]
     },
     "execution_count": 9,
     "metadata": {},
     "output_type": "execute_result"
    }
   ],
   "source": [
    "df.parcelid.is_unique"
   ]
  },
  {
   "cell_type": "code",
   "execution_count": 10,
   "metadata": {},
   "outputs": [],
   "source": [
    "# df.drop(columns='id', inplace=True)"
   ]
  },
  {
   "cell_type": "code",
   "execution_count": 11,
   "metadata": {},
   "outputs": [
    {
     "name": "stdout",
     "output_type": "stream",
     "text": [
      "<class 'pandas.core.frame.DataFrame'>\n",
      "RangeIndex: 77381 entries, 0 to 77380\n",
      "Data columns (total 67 columns):\n",
      "parcelid                        77381 non-null int64\n",
      "transactiondate                 77381 non-null object\n",
      "typeconstructiontypeid          223 non-null float64\n",
      "storytypeid                     50 non-null float64\n",
      "propertylandusetypeid           77381 non-null float64\n",
      "heatingorsystemtypeid           49385 non-null float64\n",
      "buildingclasstypeid             15 non-null float64\n",
      "architecturalstyletypeid        207 non-null float64\n",
      "airconditioningtypeid           24927 non-null float64\n",
      "logerror                        77381 non-null float64\n",
      "basementsqft                    50 non-null float64\n",
      "bathroomcnt                     77381 non-null float64\n",
      "bedroomcnt                      77381 non-null float64\n",
      "buildingqualitytypeid           49617 non-null float64\n",
      "calculatedbathnbr               76766 non-null float64\n",
      "decktypeid                      614 non-null float64\n",
      "finishedfloor1squarefeet        6036 non-null float64\n",
      "calculatedfinishedsquarefeet    77180 non-null float64\n",
      "finishedsquarefeet12            73736 non-null float64\n",
      "finishedsquarefeet13            42 non-null float64\n",
      "finishedsquarefeet15            3016 non-null float64\n",
      "finishedsquarefeet50            6036 non-null float64\n",
      "finishedsquarefeet6             386 non-null float64\n",
      "fips                            77381 non-null float64\n",
      "fireplacecnt                    8288 non-null float64\n",
      "fullbathcnt                     76766 non-null float64\n",
      "garagecarcnt                    25519 non-null float64\n",
      "garagetotalsqft                 25519 non-null float64\n",
      "hashottuborspa                  1539 non-null float64\n",
      "latitude                        77381 non-null float64\n",
      "longitude                       77381 non-null float64\n",
      "lotsizesquarefeet               69126 non-null float64\n",
      "poolcnt                         16135 non-null float64\n",
      "poolsizesum                     869 non-null float64\n",
      "pooltypeid10                    465 non-null float64\n",
      "pooltypeid2                     1074 non-null float64\n",
      "pooltypeid7                     15040 non-null float64\n",
      "propertycountylandusecode       77381 non-null object\n",
      "propertyzoningdesc              50279 non-null object\n",
      "rawcensustractandblock          77381 non-null float64\n",
      "regionidcity                    75913 non-null float64\n",
      "regionidcounty                  77381 non-null float64\n",
      "regionidneighborhood            30876 non-null float64\n",
      "regionidzip                     77331 non-null float64\n",
      "roomcnt                         77381 non-null float64\n",
      "threequarterbathnbr             10106 non-null float64\n",
      "unitcnt                         50507 non-null float64\n",
      "yardbuildingsqft17              2392 non-null float64\n",
      "yardbuildingsqft26              70 non-null float64\n",
      "yearbuilt                       77113 non-null float64\n",
      "numberofstories                 17598 non-null float64\n",
      "fireplaceflag                   172 non-null float64\n",
      "structuretaxvaluedollarcnt      77266 non-null float64\n",
      "taxvaluedollarcnt               77380 non-null float64\n",
      "assessmentyear                  77381 non-null float64\n",
      "landtaxvaluedollarcnt           77379 non-null float64\n",
      "taxamount                       77376 non-null float64\n",
      "taxdelinquencyflag              2890 non-null object\n",
      "taxdelinquencyyear              2890 non-null float64\n",
      "censustractandblock             77134 non-null float64\n",
      "airconditioningdesc             24927 non-null object\n",
      "architecturalstyledesc          207 non-null object\n",
      "buildingclassdesc               15 non-null object\n",
      "heatingorsystemdesc             49385 non-null object\n",
      "propertylandusedesc             77381 non-null object\n",
      "storydesc                       50 non-null object\n",
      "typeconstructiondesc            223 non-null object\n",
      "dtypes: float64(55), int64(1), object(11)\n",
      "memory usage: 39.6+ MB\n"
     ]
    }
   ],
   "source": [
    "df.info()"
   ]
  },
  {
   "cell_type": "code",
   "execution_count": 12,
   "metadata": {},
   "outputs": [],
   "source": [
    "# summary = pd.DataFrame(df.columns)\n",
    "# summary['num_rows_missing'] = df.isna().sum().values\n",
    "# summary['pct_rows_missing'] = df.isna().sum().values / len(df)\n",
    "# summary.set_index(0, inplace=True)\n",
    "# summary.index.name=''\n",
    "# summary.head()"
   ]
  },
  {
   "cell_type": "code",
   "execution_count": 13,
   "metadata": {},
   "outputs": [
    {
     "data": {
      "text/plain": [
       "\n",
       "buildingclasstypeid     0.999806\n",
       "buildingclassdesc       0.999806\n",
       "finishedsquarefeet13    0.999457\n",
       "storytypeid             0.999354\n",
       "basementsqft            0.999354\n",
       "Name: pct_rows_missing, dtype: float64"
      ]
     },
     "execution_count": 13,
     "metadata": {},
     "output_type": "execute_result"
    }
   ],
   "source": [
    "summary = wrangle_zillow.null_rows_info(df)\n",
    "summary.pct_rows_missing.nlargest(5)"
   ]
  },
  {
   "cell_type": "markdown",
   "metadata": {},
   "source": [
    "I likely want to just drop the columns that are missing at least 70% of their data."
   ]
  },
  {
   "cell_type": "code",
   "execution_count": 14,
   "metadata": {
    "scrolled": false
   },
   "outputs": [],
   "source": [
    "# summary = pd.DataFrame(df.isna().sum(axis=1).values)\n",
    "# summary.reset_index(inplace=True)\n",
    "# summary.rename(columns={0:'num_cols_missing'}, inplace=True)\n",
    "# df2 = summary.groupby('num_cols_missing')\\\n",
    "#                              .count().reset_index()\n",
    "# df2['pct_cols_missing'] = df2.num_cols_missing / df.shape[1]\n",
    "# df2.rename(columns={'index':'num_rows'}, inplace=True)\n",
    "# df2"
   ]
  },
  {
   "cell_type": "code",
   "execution_count": 15,
   "metadata": {},
   "outputs": [
    {
     "data": {
      "text/html": [
       "<div>\n",
       "<style scoped>\n",
       "    .dataframe tbody tr th:only-of-type {\n",
       "        vertical-align: middle;\n",
       "    }\n",
       "\n",
       "    .dataframe tbody tr th {\n",
       "        vertical-align: top;\n",
       "    }\n",
       "\n",
       "    .dataframe thead th {\n",
       "        text-align: right;\n",
       "    }\n",
       "</style>\n",
       "<table border=\"1\" class=\"dataframe\">\n",
       "  <thead>\n",
       "    <tr style=\"text-align: right;\">\n",
       "      <th></th>\n",
       "      <th>num_cols_missing</th>\n",
       "      <th>num_rows</th>\n",
       "      <th>pct_cols_missing</th>\n",
       "    </tr>\n",
       "  </thead>\n",
       "  <tbody>\n",
       "    <tr>\n",
       "      <th>0</th>\n",
       "      <td>23</td>\n",
       "      <td>2</td>\n",
       "      <td>0.343284</td>\n",
       "    </tr>\n",
       "    <tr>\n",
       "      <th>1</th>\n",
       "      <td>24</td>\n",
       "      <td>13</td>\n",
       "      <td>0.358209</td>\n",
       "    </tr>\n",
       "    <tr>\n",
       "      <th>2</th>\n",
       "      <td>25</td>\n",
       "      <td>24</td>\n",
       "      <td>0.373134</td>\n",
       "    </tr>\n",
       "    <tr>\n",
       "      <th>3</th>\n",
       "      <td>26</td>\n",
       "      <td>66</td>\n",
       "      <td>0.388060</td>\n",
       "    </tr>\n",
       "    <tr>\n",
       "      <th>4</th>\n",
       "      <td>27</td>\n",
       "      <td>315</td>\n",
       "      <td>0.402985</td>\n",
       "    </tr>\n",
       "    <tr>\n",
       "      <th>5</th>\n",
       "      <td>28</td>\n",
       "      <td>457</td>\n",
       "      <td>0.417910</td>\n",
       "    </tr>\n",
       "    <tr>\n",
       "      <th>6</th>\n",
       "      <td>29</td>\n",
       "      <td>5270</td>\n",
       "      <td>0.432836</td>\n",
       "    </tr>\n",
       "    <tr>\n",
       "      <th>7</th>\n",
       "      <td>30</td>\n",
       "      <td>3454</td>\n",
       "      <td>0.447761</td>\n",
       "    </tr>\n",
       "    <tr>\n",
       "      <th>8</th>\n",
       "      <td>31</td>\n",
       "      <td>9876</td>\n",
       "      <td>0.462687</td>\n",
       "    </tr>\n",
       "    <tr>\n",
       "      <th>9</th>\n",
       "      <td>32</td>\n",
       "      <td>12572</td>\n",
       "      <td>0.477612</td>\n",
       "    </tr>\n",
       "    <tr>\n",
       "      <th>10</th>\n",
       "      <td>33</td>\n",
       "      <td>14779</td>\n",
       "      <td>0.492537</td>\n",
       "    </tr>\n",
       "    <tr>\n",
       "      <th>11</th>\n",
       "      <td>34</td>\n",
       "      <td>13306</td>\n",
       "      <td>0.507463</td>\n",
       "    </tr>\n",
       "    <tr>\n",
       "      <th>12</th>\n",
       "      <td>35</td>\n",
       "      <td>5156</td>\n",
       "      <td>0.522388</td>\n",
       "    </tr>\n",
       "    <tr>\n",
       "      <th>13</th>\n",
       "      <td>36</td>\n",
       "      <td>5791</td>\n",
       "      <td>0.537313</td>\n",
       "    </tr>\n",
       "    <tr>\n",
       "      <th>14</th>\n",
       "      <td>37</td>\n",
       "      <td>3629</td>\n",
       "      <td>0.552239</td>\n",
       "    </tr>\n",
       "    <tr>\n",
       "      <th>15</th>\n",
       "      <td>38</td>\n",
       "      <td>1932</td>\n",
       "      <td>0.567164</td>\n",
       "    </tr>\n",
       "    <tr>\n",
       "      <th>16</th>\n",
       "      <td>39</td>\n",
       "      <td>285</td>\n",
       "      <td>0.582090</td>\n",
       "    </tr>\n",
       "    <tr>\n",
       "      <th>17</th>\n",
       "      <td>40</td>\n",
       "      <td>229</td>\n",
       "      <td>0.597015</td>\n",
       "    </tr>\n",
       "    <tr>\n",
       "      <th>18</th>\n",
       "      <td>41</td>\n",
       "      <td>29</td>\n",
       "      <td>0.611940</td>\n",
       "    </tr>\n",
       "    <tr>\n",
       "      <th>19</th>\n",
       "      <td>42</td>\n",
       "      <td>27</td>\n",
       "      <td>0.626866</td>\n",
       "    </tr>\n",
       "    <tr>\n",
       "      <th>20</th>\n",
       "      <td>43</td>\n",
       "      <td>29</td>\n",
       "      <td>0.641791</td>\n",
       "    </tr>\n",
       "    <tr>\n",
       "      <th>21</th>\n",
       "      <td>44</td>\n",
       "      <td>79</td>\n",
       "      <td>0.656716</td>\n",
       "    </tr>\n",
       "    <tr>\n",
       "      <th>22</th>\n",
       "      <td>45</td>\n",
       "      <td>50</td>\n",
       "      <td>0.671642</td>\n",
       "    </tr>\n",
       "    <tr>\n",
       "      <th>23</th>\n",
       "      <td>46</td>\n",
       "      <td>5</td>\n",
       "      <td>0.686567</td>\n",
       "    </tr>\n",
       "    <tr>\n",
       "      <th>24</th>\n",
       "      <td>47</td>\n",
       "      <td>3</td>\n",
       "      <td>0.701493</td>\n",
       "    </tr>\n",
       "    <tr>\n",
       "      <th>25</th>\n",
       "      <td>48</td>\n",
       "      <td>3</td>\n",
       "      <td>0.716418</td>\n",
       "    </tr>\n",
       "  </tbody>\n",
       "</table>\n",
       "</div>"
      ],
      "text/plain": [
       "    num_cols_missing  num_rows  pct_cols_missing\n",
       "0                 23         2          0.343284\n",
       "1                 24        13          0.358209\n",
       "2                 25        24          0.373134\n",
       "3                 26        66          0.388060\n",
       "4                 27       315          0.402985\n",
       "5                 28       457          0.417910\n",
       "6                 29      5270          0.432836\n",
       "7                 30      3454          0.447761\n",
       "8                 31      9876          0.462687\n",
       "9                 32     12572          0.477612\n",
       "10                33     14779          0.492537\n",
       "11                34     13306          0.507463\n",
       "12                35      5156          0.522388\n",
       "13                36      5791          0.537313\n",
       "14                37      3629          0.552239\n",
       "15                38      1932          0.567164\n",
       "16                39       285          0.582090\n",
       "17                40       229          0.597015\n",
       "18                41        29          0.611940\n",
       "19                42        27          0.626866\n",
       "20                43        29          0.641791\n",
       "21                44        79          0.656716\n",
       "22                45        50          0.671642\n",
       "23                46         5          0.686567\n",
       "24                47         3          0.701493\n",
       "25                48         3          0.716418"
      ]
     },
     "execution_count": 15,
     "metadata": {},
     "output_type": "execute_result"
    }
   ],
   "source": [
    "summary2 = wrangle_zillow.null_cols_info(df)\n",
    "summary2"
   ]
  },
  {
   "cell_type": "markdown",
   "metadata": {},
   "source": [
    "It would be easy enough to drop rows that are missing more than 60% of their data, because that only accounts for a few hundred rows out of thousands."
   ]
  },
  {
   "cell_type": "code",
   "execution_count": 16,
   "metadata": {},
   "outputs": [
    {
     "data": {
      "text/plain": [
       "(52387, 67)"
      ]
     },
     "execution_count": 16,
     "metadata": {},
     "output_type": "execute_result"
    }
   ],
   "source": [
    "single_unit = [261, 262, 263, 264, 268, 273, 276, 279]\n",
    "df2 = df[df.propertylandusetypeid.isin(single_unit)]\n",
    "df2.shape"
   ]
  },
  {
   "cell_type": "code",
   "execution_count": 17,
   "metadata": {},
   "outputs": [
    {
     "data": {
      "text/plain": [
       "15716"
      ]
     },
     "execution_count": 17,
     "metadata": {},
     "output_type": "execute_result"
    }
   ],
   "source": [
    "df2.shape[0] - int(round(.7*len(df2),0))"
   ]
  },
  {
   "cell_type": "code",
   "execution_count": 18,
   "metadata": {},
   "outputs": [
    {
     "data": {
      "text/plain": [
       "typeconstructiontypeid      52311\n",
       "storytypeid                 52340\n",
       "heatingorsystemtypeid       18576\n",
       "buildingclasstypeid         52387\n",
       "architecturalstyletypeid    52317\n",
       "airconditioningtypeid       38783\n",
       "basementsqft                52340\n",
       "buildingqualitytypeid       18721\n",
       "decktypeid                  51997\n",
       "finishedfloor1squarefeet    48000\n",
       "finishedsquarefeet13        52385\n",
       "finishedsquarefeet15        52387\n",
       "finishedsquarefeet50        48000\n",
       "finishedsquarefeet6         52222\n",
       "fireplacecnt                45144\n",
       "garagecarcnt                34366\n",
       "garagetotalsqft             34366\n",
       "hashottuborspa              50872\n",
       "poolcnt                     41312\n",
       "poolsizesum                 51520\n",
       "pooltypeid10                51943\n",
       "pooltypeid2                 51316\n",
       "pooltypeid7                 42399\n",
       "propertyzoningdesc          18612\n",
       "regionidneighborhood        33410\n",
       "threequarterbathnbr         45663\n",
       "unitcnt                     18613\n",
       "yardbuildingsqft17          50450\n",
       "yardbuildingsqft26          52322\n",
       "numberofstories             37820\n",
       "fireplaceflag               52306\n",
       "taxdelinquencyflag          50311\n",
       "taxdelinquencyyear          50311\n",
       "airconditioningdesc         38783\n",
       "architecturalstyledesc      52317\n",
       "buildingclassdesc           52387\n",
       "heatingorsystemdesc         18576\n",
       "storydesc                   52340\n",
       "typeconstructiondesc        52311\n",
       "dtype: int64"
      ]
     },
     "execution_count": 18,
     "metadata": {},
     "output_type": "execute_result"
    }
   ],
   "source": [
    "df2.isna().sum()[df2.isna().sum()>18000]"
   ]
  },
  {
   "cell_type": "code",
   "execution_count": 19,
   "metadata": {},
   "outputs": [
    {
     "name": "stderr",
     "output_type": "stream",
     "text": [
      "/Users/camerontaylor/codeup-data-science/ds-methodologies-exercises/clustering/wrangle_zillow.py:47: SettingWithCopyWarning: \n",
      "A value is trying to be set on a copy of a slice from a DataFrame\n",
      "\n",
      "See the caveats in the documentation: http://pandas.pydata.org/pandas-docs/stable/user_guide/indexing.html#returning-a-view-versus-a-copy\n",
      "  df.dropna(axis=1, thresh=threshold, inplace=True)\n",
      "/Users/camerontaylor/codeup-data-science/ds-methodologies-exercises/clustering/wrangle_zillow.py:50: SettingWithCopyWarning: \n",
      "A value is trying to be set on a copy of a slice from a DataFrame\n",
      "\n",
      "See the caveats in the documentation: http://pandas.pydata.org/pandas-docs/stable/user_guide/indexing.html#returning-a-view-versus-a-copy\n",
      "  df.dropna(axis=0, thresh=threshold, inplace=True)\n"
     ]
    },
    {
     "data": {
      "text/plain": [
       "(52387, 28)"
      ]
     },
     "execution_count": 19,
     "metadata": {},
     "output_type": "execute_result"
    }
   ],
   "source": [
    "wrangle_zillow.handle_missing_values(df2)\n",
    "df2.shape"
   ]
  },
  {
   "cell_type": "code",
   "execution_count": 20,
   "metadata": {},
   "outputs": [],
   "source": [
    "# def handle_missing_values(df, req_column = .7, req_row = .6):\n",
    "#     threshold = int(round(req_column*len(df),0))\n",
    "#     df.dropna(axis=1, thresh=threshold, inplace=True)\n",
    "    \n",
    "#     threshold = int(round(req_row*len(df.columns),0))\n",
    "#     df.dropna(axis=0, thresh=threshold, inplace=True)\n",
    "#     return df"
   ]
  },
  {
   "cell_type": "code",
   "execution_count": 21,
   "metadata": {},
   "outputs": [
    {
     "name": "stdout",
     "output_type": "stream",
     "text": [
      "<class 'pandas.core.frame.DataFrame'>\n",
      "Int64Index: 52387 entries, 0 to 77380\n",
      "Data columns (total 28 columns):\n",
      "parcelid                        52387 non-null int64\n",
      "transactiondate                 52387 non-null object\n",
      "propertylandusetypeid           52387 non-null float64\n",
      "logerror                        52387 non-null float64\n",
      "bathroomcnt                     52387 non-null float64\n",
      "bedroomcnt                      52387 non-null float64\n",
      "calculatedbathnbr               52237 non-null float64\n",
      "calculatedfinishedsquarefeet    52292 non-null float64\n",
      "finishedsquarefeet12            52125 non-null float64\n",
      "fips                            52387 non-null float64\n",
      "fullbathcnt                     52237 non-null float64\n",
      "latitude                        52387 non-null float64\n",
      "longitude                       52387 non-null float64\n",
      "lotsizesquarefeet               52011 non-null float64\n",
      "propertycountylandusecode       52387 non-null object\n",
      "rawcensustractandblock          52387 non-null float64\n",
      "regionidcity                    51353 non-null float64\n",
      "regionidcounty                  52387 non-null float64\n",
      "regionidzip                     52361 non-null float64\n",
      "roomcnt                         52387 non-null float64\n",
      "yearbuilt                       52259 non-null float64\n",
      "structuretaxvaluedollarcnt      52302 non-null float64\n",
      "taxvaluedollarcnt               52386 non-null float64\n",
      "assessmentyear                  52387 non-null float64\n",
      "landtaxvaluedollarcnt           52385 non-null float64\n",
      "taxamount                       52383 non-null float64\n",
      "censustractandblock             52264 non-null float64\n",
      "propertylandusedesc             52387 non-null object\n",
      "dtypes: float64(24), int64(1), object(3)\n",
      "memory usage: 11.6+ MB\n"
     ]
    }
   ],
   "source": [
    "df2.info()"
   ]
  },
  {
   "cell_type": "code",
   "execution_count": 22,
   "metadata": {},
   "outputs": [
    {
     "data": {
      "text/plain": [
       "['calculatedbathnbr',\n",
       " 'calculatedfinishedsquarefeet',\n",
       " 'finishedsquarefeet12',\n",
       " 'fullbathcnt',\n",
       " 'lotsizesquarefeet',\n",
       " 'regionidcity',\n",
       " 'regionidzip',\n",
       " 'yearbuilt',\n",
       " 'structuretaxvaluedollarcnt',\n",
       " 'taxvaluedollarcnt',\n",
       " 'landtaxvaluedollarcnt',\n",
       " 'taxamount',\n",
       " 'censustractandblock']"
      ]
     },
     "execution_count": 22,
     "metadata": {},
     "output_type": "execute_result"
    }
   ],
   "source": [
    "df2.isna().sum()[df2.isna().sum() > 0].index.tolist()"
   ]
  },
  {
   "cell_type": "code",
   "execution_count": 23,
   "metadata": {},
   "outputs": [],
   "source": [
    "na_cols = df2[['parcelid','calculatedbathnbr', \n",
    "       'calculatedfinishedsquarefeet',\n",
    "       'finishedsquarefeet12', 'fullbathcnt', 'lotsizesquarefeet',\n",
    "       'regionidcity', 'regionidzip', 'yearbuilt',\n",
    "       'structuretaxvaluedollarcnt', 'taxvaluedollarcnt',\n",
    "       'landtaxvaluedollarcnt', 'taxamount', 'censustractandblock']]\n",
    "na_cols = pd.DataFrame(KNNImputer().fit_transform(na_cols))"
   ]
  },
  {
   "cell_type": "code",
   "execution_count": 24,
   "metadata": {},
   "outputs": [
    {
     "data": {
      "text/html": [
       "<div>\n",
       "<style scoped>\n",
       "    .dataframe tbody tr th:only-of-type {\n",
       "        vertical-align: middle;\n",
       "    }\n",
       "\n",
       "    .dataframe tbody tr th {\n",
       "        vertical-align: top;\n",
       "    }\n",
       "\n",
       "    .dataframe thead th {\n",
       "        text-align: right;\n",
       "    }\n",
       "</style>\n",
       "<table border=\"1\" class=\"dataframe\">\n",
       "  <thead>\n",
       "    <tr style=\"text-align: right;\">\n",
       "      <th></th>\n",
       "      <th>0</th>\n",
       "      <th>1</th>\n",
       "      <th>2</th>\n",
       "      <th>3</th>\n",
       "      <th>4</th>\n",
       "      <th>5</th>\n",
       "      <th>6</th>\n",
       "      <th>7</th>\n",
       "      <th>8</th>\n",
       "      <th>9</th>\n",
       "      <th>10</th>\n",
       "      <th>11</th>\n",
       "      <th>12</th>\n",
       "      <th>13</th>\n",
       "    </tr>\n",
       "  </thead>\n",
       "  <tbody>\n",
       "    <tr>\n",
       "      <th>8107</th>\n",
       "      <td>11180292.0</td>\n",
       "      <td>2.5</td>\n",
       "      <td>1853.0</td>\n",
       "      <td>1853.0</td>\n",
       "      <td>2.0</td>\n",
       "      <td>4000.0</td>\n",
       "      <td>27110.0</td>\n",
       "      <td>97118.0</td>\n",
       "      <td>1986.0</td>\n",
       "      <td>259370.0</td>\n",
       "      <td>518740.0</td>\n",
       "      <td>259370.0</td>\n",
       "      <td>6003.02</td>\n",
       "      <td>6.111008e+13</td>\n",
       "    </tr>\n",
       "    <tr>\n",
       "      <th>9128</th>\n",
       "      <td>11241249.0</td>\n",
       "      <td>2.0</td>\n",
       "      <td>1885.0</td>\n",
       "      <td>1885.0</td>\n",
       "      <td>2.0</td>\n",
       "      <td>8751.0</td>\n",
       "      <td>51239.0</td>\n",
       "      <td>97089.0</td>\n",
       "      <td>1994.0</td>\n",
       "      <td>360365.0</td>\n",
       "      <td>600607.0</td>\n",
       "      <td>240242.0</td>\n",
       "      <td>6476.68</td>\n",
       "      <td>6.111005e+13</td>\n",
       "    </tr>\n",
       "    <tr>\n",
       "      <th>6826</th>\n",
       "      <td>11119391.0</td>\n",
       "      <td>3.5</td>\n",
       "      <td>3667.0</td>\n",
       "      <td>3667.0</td>\n",
       "      <td>3.0</td>\n",
       "      <td>5261.0</td>\n",
       "      <td>15554.0</td>\n",
       "      <td>96993.0</td>\n",
       "      <td>1998.0</td>\n",
       "      <td>450000.0</td>\n",
       "      <td>1026000.0</td>\n",
       "      <td>576000.0</td>\n",
       "      <td>14477.98</td>\n",
       "      <td>6.059032e+13</td>\n",
       "    </tr>\n",
       "    <tr>\n",
       "      <th>276</th>\n",
       "      <td>10727338.0</td>\n",
       "      <td>1.0</td>\n",
       "      <td>882.0</td>\n",
       "      <td>882.0</td>\n",
       "      <td>1.0</td>\n",
       "      <td>10843.0</td>\n",
       "      <td>12447.0</td>\n",
       "      <td>96364.0</td>\n",
       "      <td>1952.0</td>\n",
       "      <td>57742.0</td>\n",
       "      <td>288725.0</td>\n",
       "      <td>230983.0</td>\n",
       "      <td>3602.79</td>\n",
       "      <td>6.037132e+13</td>\n",
       "    </tr>\n",
       "    <tr>\n",
       "      <th>4463</th>\n",
       "      <td>10967262.0</td>\n",
       "      <td>1.5</td>\n",
       "      <td>1124.0</td>\n",
       "      <td>1124.0</td>\n",
       "      <td>1.0</td>\n",
       "      <td>2254.0</td>\n",
       "      <td>42967.0</td>\n",
       "      <td>96203.0</td>\n",
       "      <td>1972.0</td>\n",
       "      <td>62865.0</td>\n",
       "      <td>350000.0</td>\n",
       "      <td>287135.0</td>\n",
       "      <td>4339.64</td>\n",
       "      <td>6.059088e+13</td>\n",
       "    </tr>\n",
       "  </tbody>\n",
       "</table>\n",
       "</div>"
      ],
      "text/plain": [
       "               0    1       2       3    4        5        6        7       8  \\\n",
       "8107  11180292.0  2.5  1853.0  1853.0  2.0   4000.0  27110.0  97118.0  1986.0   \n",
       "9128  11241249.0  2.0  1885.0  1885.0  2.0   8751.0  51239.0  97089.0  1994.0   \n",
       "6826  11119391.0  3.5  3667.0  3667.0  3.0   5261.0  15554.0  96993.0  1998.0   \n",
       "276   10727338.0  1.0   882.0   882.0  1.0  10843.0  12447.0  96364.0  1952.0   \n",
       "4463  10967262.0  1.5  1124.0  1124.0  1.0   2254.0  42967.0  96203.0  1972.0   \n",
       "\n",
       "             9         10        11        12            13  \n",
       "8107  259370.0   518740.0  259370.0   6003.02  6.111008e+13  \n",
       "9128  360365.0   600607.0  240242.0   6476.68  6.111005e+13  \n",
       "6826  450000.0  1026000.0  576000.0  14477.98  6.059032e+13  \n",
       "276    57742.0   288725.0  230983.0   3602.79  6.037132e+13  \n",
       "4463   62865.0   350000.0  287135.0   4339.64  6.059088e+13  "
      ]
     },
     "execution_count": 24,
     "metadata": {},
     "output_type": "execute_result"
    }
   ],
   "source": [
    "na_cols.sample(5)"
   ]
  },
  {
   "cell_type": "code",
   "execution_count": 25,
   "metadata": {
    "scrolled": false
   },
   "outputs": [
    {
     "data": {
      "text/html": [
       "<div>\n",
       "<style scoped>\n",
       "    .dataframe tbody tr th:only-of-type {\n",
       "        vertical-align: middle;\n",
       "    }\n",
       "\n",
       "    .dataframe tbody tr th {\n",
       "        vertical-align: top;\n",
       "    }\n",
       "\n",
       "    .dataframe thead th {\n",
       "        text-align: right;\n",
       "    }\n",
       "</style>\n",
       "<table border=\"1\" class=\"dataframe\">\n",
       "  <thead>\n",
       "    <tr style=\"text-align: right;\">\n",
       "      <th></th>\n",
       "      <th>parcelid</th>\n",
       "      <th>calculatedbathnbr</th>\n",
       "      <th>calculatedfinishedsquarefeet</th>\n",
       "      <th>finishedsquarefeet12</th>\n",
       "      <th>fullbathcnt</th>\n",
       "      <th>lotsizesquarefeet</th>\n",
       "      <th>regionidcity</th>\n",
       "      <th>regionidzip</th>\n",
       "      <th>yearbuilt</th>\n",
       "      <th>structuretaxvaluedollarcnt</th>\n",
       "      <th>taxvaluedollarcnt</th>\n",
       "      <th>landtaxvaluedollarcnt</th>\n",
       "      <th>taxamount</th>\n",
       "      <th>censustractandblock</th>\n",
       "    </tr>\n",
       "  </thead>\n",
       "  <tbody>\n",
       "    <tr>\n",
       "      <th>0</th>\n",
       "      <td>10711855</td>\n",
       "      <td>3.5</td>\n",
       "      <td>3100</td>\n",
       "      <td>3100</td>\n",
       "      <td>3</td>\n",
       "      <td>4506</td>\n",
       "      <td>53571</td>\n",
       "      <td>96978</td>\n",
       "      <td>1998</td>\n",
       "      <td>485713.0</td>\n",
       "      <td>1023282.0</td>\n",
       "      <td>537569.0</td>\n",
       "      <td>11013.72</td>\n",
       "      <td>60590630072012</td>\n",
       "    </tr>\n",
       "    <tr>\n",
       "      <th>1</th>\n",
       "      <td>10711877</td>\n",
       "      <td>1.0</td>\n",
       "      <td>1465</td>\n",
       "      <td>1465</td>\n",
       "      <td>1</td>\n",
       "      <td>12647</td>\n",
       "      <td>13091</td>\n",
       "      <td>97099</td>\n",
       "      <td>1967</td>\n",
       "      <td>88000.0</td>\n",
       "      <td>464000.0</td>\n",
       "      <td>376000.0</td>\n",
       "      <td>5672.48</td>\n",
       "      <td>61110010023006</td>\n",
       "    </tr>\n",
       "    <tr>\n",
       "      <th>2</th>\n",
       "      <td>10711888</td>\n",
       "      <td>2.0</td>\n",
       "      <td>1243</td>\n",
       "      <td>1243</td>\n",
       "      <td>2</td>\n",
       "      <td>8432</td>\n",
       "      <td>21412</td>\n",
       "      <td>97078</td>\n",
       "      <td>1962</td>\n",
       "      <td>85289.0</td>\n",
       "      <td>564778.0</td>\n",
       "      <td>479489.0</td>\n",
       "      <td>6488.30</td>\n",
       "      <td>60590218022012</td>\n",
       "    </tr>\n",
       "    <tr>\n",
       "      <th>3</th>\n",
       "      <td>10711910</td>\n",
       "      <td>3.0</td>\n",
       "      <td>2376</td>\n",
       "      <td>2376</td>\n",
       "      <td>3</td>\n",
       "      <td>13038</td>\n",
       "      <td>396551</td>\n",
       "      <td>96330</td>\n",
       "      <td>1970</td>\n",
       "      <td>108918.0</td>\n",
       "      <td>145143.0</td>\n",
       "      <td>36225.0</td>\n",
       "      <td>1777.51</td>\n",
       "      <td>60373001001006</td>\n",
       "    </tr>\n",
       "    <tr>\n",
       "      <th>4</th>\n",
       "      <td>10711956</td>\n",
       "      <td>3.0</td>\n",
       "      <td>2962</td>\n",
       "      <td>2962</td>\n",
       "      <td>3</td>\n",
       "      <td>63000</td>\n",
       "      <td>47019</td>\n",
       "      <td>96293</td>\n",
       "      <td>1950</td>\n",
       "      <td>276684.0</td>\n",
       "      <td>773303.0</td>\n",
       "      <td>496619.0</td>\n",
       "      <td>9516.26</td>\n",
       "      <td>60374608001014</td>\n",
       "    </tr>\n",
       "  </tbody>\n",
       "</table>\n",
       "</div>"
      ],
      "text/plain": [
       "   parcelid  calculatedbathnbr  calculatedfinishedsquarefeet  \\\n",
       "0  10711855                3.5                          3100   \n",
       "1  10711877                1.0                          1465   \n",
       "2  10711888                2.0                          1243   \n",
       "3  10711910                3.0                          2376   \n",
       "4  10711956                3.0                          2962   \n",
       "\n",
       "   finishedsquarefeet12  fullbathcnt  lotsizesquarefeet  regionidcity  \\\n",
       "0                  3100            3               4506         53571   \n",
       "1                  1465            1              12647         13091   \n",
       "2                  1243            2               8432         21412   \n",
       "3                  2376            3              13038        396551   \n",
       "4                  2962            3              63000         47019   \n",
       "\n",
       "   regionidzip  yearbuilt  structuretaxvaluedollarcnt  taxvaluedollarcnt  \\\n",
       "0        96978       1998                    485713.0          1023282.0   \n",
       "1        97099       1967                     88000.0           464000.0   \n",
       "2        97078       1962                     85289.0           564778.0   \n",
       "3        96330       1970                    108918.0           145143.0   \n",
       "4        96293       1950                    276684.0           773303.0   \n",
       "\n",
       "   landtaxvaluedollarcnt  taxamount  censustractandblock  \n",
       "0               537569.0   11013.72       60590630072012  \n",
       "1               376000.0    5672.48       61110010023006  \n",
       "2               479489.0    6488.30       60590218022012  \n",
       "3                36225.0    1777.51       60373001001006  \n",
       "4               496619.0    9516.26       60374608001014  "
      ]
     },
     "execution_count": 25,
     "metadata": {},
     "output_type": "execute_result"
    }
   ],
   "source": [
    "na_cols.columns = ['parcelid','calculatedbathnbr', \n",
    "       'calculatedfinishedsquarefeet',\n",
    "       'finishedsquarefeet12', 'fullbathcnt', 'lotsizesquarefeet',\n",
    "       'regionidcity', 'regionidzip', 'yearbuilt',\n",
    "       'structuretaxvaluedollarcnt', 'taxvaluedollarcnt',\n",
    "       'landtaxvaluedollarcnt', 'taxamount', 'censustractandblock']\n",
    "int_cols = ['parcelid', 'calculatedfinishedsquarefeet',\n",
    "        'finishedsquarefeet12','fullbathcnt','lotsizesquarefeet',\n",
    "        'regionidcity','regionidzip', 'yearbuilt',\n",
    "        'censustractandblock']\n",
    "na_cols[int_cols] = na_cols[int_cols].astype(int)\n",
    "na_cols.head()"
   ]
  },
  {
   "cell_type": "code",
   "execution_count": 26,
   "metadata": {},
   "outputs": [
    {
     "data": {
      "text/plain": [
       "(52387, 41)"
      ]
     },
     "execution_count": 26,
     "metadata": {},
     "output_type": "execute_result"
    }
   ],
   "source": [
    "df3 = na_cols.merge(df2, on='parcelid', copy=False)\n",
    "df3.shape"
   ]
  },
  {
   "cell_type": "code",
   "execution_count": 27,
   "metadata": {},
   "outputs": [
    {
     "data": {
      "text/plain": [
       "parcelid                          0\n",
       "calculatedbathnbr_x               0\n",
       "calculatedfinishedsquarefeet_x    0\n",
       "finishedsquarefeet12_x            0\n",
       "fullbathcnt_x                     0\n",
       "lotsizesquarefeet_x               0\n",
       "regionidcity_x                    0\n",
       "regionidzip_x                     0\n",
       "yearbuilt_x                       0\n",
       "structuretaxvaluedollarcnt_x      0\n",
       "taxvaluedollarcnt_x               0\n",
       "landtaxvaluedollarcnt_x           0\n",
       "taxamount_x                       0\n",
       "censustractandblock_x             0\n",
       "transactiondate                   0\n",
       "propertylandusetypeid             0\n",
       "logerror                          0\n",
       "bathroomcnt                       0\n",
       "bedroomcnt                        0\n",
       "fips                              0\n",
       "latitude                          0\n",
       "longitude                         0\n",
       "propertycountylandusecode         0\n",
       "rawcensustractandblock            0\n",
       "regionidcounty                    0\n",
       "roomcnt                           0\n",
       "assessmentyear                    0\n",
       "propertylandusedesc               0\n",
       "dtype: int64"
      ]
     },
     "execution_count": 27,
     "metadata": {},
     "output_type": "execute_result"
    }
   ],
   "source": [
    "df3 = df3.drop(columns=df3.isna().sum()[df3.isna().sum()>0]\\\n",
    "               .index.tolist())\n",
    "df3.isna().sum()"
   ]
  },
  {
   "cell_type": "code",
   "execution_count": 28,
   "metadata": {},
   "outputs": [],
   "source": [
    "# These are essentially duplicated columns\n",
    "df3.drop(columns=['calculatedbathnbr_x', 'propertylandusetypeid',\n",
    "                 'finishedsquarefeet12_x'], inplace=True)"
   ]
  },
  {
   "cell_type": "code",
   "execution_count": 29,
   "metadata": {},
   "outputs": [
    {
     "data": {
      "text/plain": [
       "(52387, 25)"
      ]
     },
     "execution_count": 29,
     "metadata": {},
     "output_type": "execute_result"
    }
   ],
   "source": [
    "df3.shape"
   ]
  },
  {
   "cell_type": "code",
   "execution_count": 34,
   "metadata": {},
   "outputs": [
    {
     "data": {
      "text/plain": [
       "12447.0     17934\n",
       "46298.0      2589\n",
       "5534.0       1913\n",
       "54311.0      1871\n",
       "52650.0      1670\n",
       "            ...  \n",
       "13311.0         5\n",
       "118880.0        5\n",
       "10815.0         4\n",
       "21395.0         1\n",
       "36078.0         1\n",
       "Name: regionidcity, Length: 175, dtype: int64"
      ]
     },
     "execution_count": 34,
     "metadata": {},
     "output_type": "execute_result"
    }
   ],
   "source": [
    "df.regionidcity.value_counts()"
   ]
  },
  {
   "cell_type": "code",
   "execution_count": 40,
   "metadata": {},
   "outputs": [
    {
     "data": {
      "text/plain": [
       "12447    11414\n",
       "5534      1807\n",
       "40227     1498\n",
       "46298     1424\n",
       "16764     1087\n",
       "         ...  \n",
       "19034        1\n",
       "27166        1\n",
       "22872        1\n",
       "28797        1\n",
       "12358        1\n",
       "Name: regionidcity_x, Length: 826, dtype: int64"
      ]
     },
     "execution_count": 40,
     "metadata": {},
     "output_type": "execute_result"
    }
   ],
   "source": [
    "df3.regionidcity_x.value_counts()\n",
    "#DO NOT IMPUTE THIS"
   ]
  },
  {
   "cell_type": "code",
   "execution_count": null,
   "metadata": {},
   "outputs": [],
   "source": [
    "plt.plot()"
   ]
  }
 ],
 "metadata": {
  "kernelspec": {
   "display_name": "Python 3",
   "language": "python",
   "name": "python3"
  },
  "language_info": {
   "codemirror_mode": {
    "name": "ipython",
    "version": 3
   },
   "file_extension": ".py",
   "mimetype": "text/x-python",
   "name": "python",
   "nbconvert_exporter": "python",
   "pygments_lexer": "ipython3",
   "version": "3.7.4"
  }
 },
 "nbformat": 4,
 "nbformat_minor": 2
}
