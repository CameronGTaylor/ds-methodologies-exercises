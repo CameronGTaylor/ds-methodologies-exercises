{
 "cells": [
  {
   "cell_type": "code",
   "execution_count": 1,
   "metadata": {},
   "outputs": [],
   "source": [
    "import pandas as pd\n",
    "import numpy as np\n",
    "import seaborn as sns\n",
    "import matplotlib.pyplot as plt\n",
    "import acquire, split_scale\n",
    "from pydataset import data\n",
    "\n",
    "from sklearn.impute import SimpleImputer\n",
    "from sklearn.preprocessing import LabelEncoder, OneHotEncoder, \\\n",
    "            MinMaxScaler\n",
    "from sklearn.linear_model import LogisticRegression\n",
    "from sklearn.metrics import confusion_matrix, classification_report\n",
    "from sklearn.tree import DecisionTreeClassifier, export_graphviz\n",
    "from sklearn.ensemble import RandomForestClassifier\n",
    "from sklearn.neighbors import KNeighborsClassifier\n",
    "\n",
    "import warnings\n",
    "warnings.filterwarnings(\"ignore\")"
   ]
  },
  {
   "cell_type": "code",
   "execution_count": 2,
   "metadata": {},
   "outputs": [],
   "source": [
    "df = acquire.get_titanic_data()"
   ]
  },
  {
   "cell_type": "code",
   "execution_count": 3,
   "metadata": {},
   "outputs": [],
   "source": [
    "df.drop(columns=['deck'], inplace=True)\n",
    "df.embark_town = df.embark_town.fillna('Southampton')\n",
    "df.embarked = df.embarked.fillna('S')\n",
    "\n",
    "imputer = SimpleImputer(strategy='mean')\n",
    "imputer.fit(df[['age']])\n",
    "df.age = imputer.transform(df[['age']])\n",
    "df.age = df.age.round(1)"
   ]
  },
  {
   "cell_type": "code",
   "execution_count": 4,
   "metadata": {},
   "outputs": [],
   "source": [
    "encoder = LabelEncoder()\n",
    "encoder.fit(df.sex)\n",
    "df['sex_encoded'] = encoder.transform(df.sex)"
   ]
  },
  {
   "cell_type": "code",
   "execution_count": 5,
   "metadata": {},
   "outputs": [],
   "source": [
    "encoder = OneHotEncoder(sparse=False)\n",
    "encoder.fit_transform(df[['embarked']])\n",
    "cols = [c for c in encoder.categories_[0]]\n",
    "m_train = encoder.transform(df[['embarked']])\n",
    "encoded_train = pd.DataFrame(m_train, columns=cols, index=df.index)\n",
    "df = df.join(encoded_train).drop(columns='embarked')"
   ]
  },
  {
   "cell_type": "code",
   "execution_count": 6,
   "metadata": {},
   "outputs": [],
   "source": [
    "train, test = split_scale.split_my_data(df, .8)\n",
    "train, validate = split_scale.split_my_data(train, .8)"
   ]
  },
  {
   "cell_type": "code",
   "execution_count": 7,
   "metadata": {},
   "outputs": [
    {
     "data": {
      "text/plain": [
       "((569, 15), (143, 15), (179, 15))"
      ]
     },
     "execution_count": 7,
     "metadata": {},
     "output_type": "execute_result"
    }
   ],
   "source": [
    "train.shape, validate.shape, test.shape"
   ]
  },
  {
   "cell_type": "code",
   "execution_count": 8,
   "metadata": {},
   "outputs": [
    {
     "data": {
      "text/plain": [
       "0.687170474516696"
      ]
     },
     "execution_count": 8,
     "metadata": {},
     "output_type": "execute_result"
    }
   ],
   "source": [
    "X_train_2 = train[['pclass','fare']]\n",
    "y_train = train[['survived']]\n",
    "model2 = LogisticRegression(random_state=42).fit(X_train_2, y_train)\n",
    "# y_pred = model2.predict(X_train_2)\n",
    "# y_pred_prob = model2.predict_proba(X_train_2)\n",
    "model2.score(X_train_2, y_train)"
   ]
  },
  {
   "cell_type": "code",
   "execution_count": 9,
   "metadata": {},
   "outputs": [
    {
     "data": {
      "text/plain": [
       "0.6153846153846154"
      ]
     },
     "execution_count": 9,
     "metadata": {},
     "output_type": "execute_result"
    }
   ],
   "source": [
    "X_val = validate[['pclass','fare']]\n",
    "y_val = validate[['survived']]\n",
    "model2.score(X_val, y_val)"
   ]
  },
  {
   "cell_type": "code",
   "execution_count": 10,
   "metadata": {},
   "outputs": [
    {
     "data": {
      "text/plain": [
       "0.7012302284710018"
      ]
     },
     "execution_count": 10,
     "metadata": {},
     "output_type": "execute_result"
    }
   ],
   "source": [
    "X_train_3 = train[['pclass','fare','age']]\n",
    "model3 = LogisticRegression(random_state=42).fit(X_train_3, y_train)\n",
    "model3.score(X_train_3, y_train)"
   ]
  },
  {
   "cell_type": "code",
   "execution_count": 11,
   "metadata": {},
   "outputs": [
    {
     "data": {
      "text/plain": [
       "0.6643356643356644"
      ]
     },
     "execution_count": 11,
     "metadata": {},
     "output_type": "execute_result"
    }
   ],
   "source": [
    "X_val = validate[['pclass','fare','age']]\n",
    "model3.score(X_val, y_val)"
   ]
  },
  {
   "cell_type": "code",
   "execution_count": 12,
   "metadata": {},
   "outputs": [
    {
     "data": {
      "text/plain": [
       "0.7855887521968365"
      ]
     },
     "execution_count": 12,
     "metadata": {},
     "output_type": "execute_result"
    }
   ],
   "source": [
    "X_train_4 = train[['pclass','fare','age','sex_encoded']]\n",
    "model4 = LogisticRegression(random_state=42).fit(X_train_4, y_train)\n",
    "model4.score(X_train_4, y_train)"
   ]
  },
  {
   "cell_type": "code",
   "execution_count": 13,
   "metadata": {},
   "outputs": [
    {
     "data": {
      "text/plain": [
       "0.7972027972027972"
      ]
     },
     "execution_count": 13,
     "metadata": {},
     "output_type": "execute_result"
    }
   ],
   "source": [
    "X_val = validate[['pclass','fare','age','sex_encoded']]\n",
    "model4.score(X_val, y_val)"
   ]
  },
  {
   "cell_type": "code",
   "execution_count": 14,
   "metadata": {},
   "outputs": [
    {
     "data": {
      "text/plain": [
       "0.789103690685413"
      ]
     },
     "execution_count": 14,
     "metadata": {},
     "output_type": "execute_result"
    }
   ],
   "source": [
    "X_train_5 = train[['pclass','fare','age','sex_encoded',\n",
    "                  'C','Q','S']]\n",
    "model5 = LogisticRegression(random_state=42).fit(X_train_5, y_train)\n",
    "model5.score(X_train_5, y_train)"
   ]
  },
  {
   "cell_type": "code",
   "execution_count": 15,
   "metadata": {},
   "outputs": [
    {
     "data": {
      "text/plain": [
       "0.8111888111888111"
      ]
     },
     "execution_count": 15,
     "metadata": {},
     "output_type": "execute_result"
    }
   ],
   "source": [
    "X_val = validate[['pclass','fare','age','sex_encoded',\n",
    "                 'C','Q','S']]\n",
    "model5.score(X_val, y_val)"
   ]
  },
  {
   "cell_type": "code",
   "execution_count": 16,
   "metadata": {},
   "outputs": [
    {
     "data": {
      "text/plain": [
       "0.7877094972067039"
      ]
     },
     "execution_count": 16,
     "metadata": {},
     "output_type": "execute_result"
    }
   ],
   "source": [
    "X_test = test[['pclass','fare','age','sex_encoded',\n",
    "                  'C','Q','S']]\n",
    "y_test = test.survived\n",
    "model5.score(X_test, y_test)"
   ]
  },
  {
   "cell_type": "markdown",
   "metadata": {},
   "source": [
    "I do not believe my data is overfit, because the score is not significantly lower than it was for validate and train"
   ]
  },
  {
   "cell_type": "markdown",
   "metadata": {},
   "source": [
    "If the missing values in age were dropped rather than imputed, it drastically lowers the numnber of observations available to work with, making the validate data nearly useless"
   ]
  },
  {
   "cell_type": "markdown",
   "metadata": {},
   "source": [
    "Encoding sex with OneHot shouldn't affect the score much more than with LabelEncoder, because it is a binary choice."
   ]
  },
  {
   "cell_type": "code",
   "execution_count": 17,
   "metadata": {},
   "outputs": [
    {
     "name": "stdout",
     "output_type": "stream",
     "text": [
      "0.789, 0.811\n"
     ]
    }
   ],
   "source": [
    "model5 = LogisticRegression(random_state=42)\\\n",
    "    .fit(X_train_5, y_train)\n",
    "print(f'{model5.score(X_train_5, y_train):.3f}, ' \n",
    "      f'{model5.score(X_val, y_val):.3f}')"
   ]
  },
  {
   "cell_type": "code",
   "execution_count": 18,
   "metadata": {},
   "outputs": [
    {
     "name": "stdout",
     "output_type": "stream",
     "text": [
      "0.715, 0.685\n"
     ]
    }
   ],
   "source": [
    "model5 = LogisticRegression(C = .01, random_state=42)\\\n",
    "    .fit(X_train_5, y_train)\n",
    "print(f'{model5.score(X_train_5, y_train):.3f}, ' \n",
    "      f'{model5.score(X_val, y_val):.3f}')"
   ]
  },
  {
   "cell_type": "code",
   "execution_count": 19,
   "metadata": {},
   "outputs": [
    {
     "name": "stdout",
     "output_type": "stream",
     "text": [
      "0.773, 0.811\n"
     ]
    }
   ],
   "source": [
    "model5 = LogisticRegression(C = .1, random_state=42)\\\n",
    "    .fit(X_train_5, y_train)\n",
    "print(f'{model5.score(X_train_5, y_train):.3f}, ' \n",
    "      f'{model5.score(X_val, y_val):.3f}')"
   ]
  },
  {
   "cell_type": "code",
   "execution_count": 20,
   "metadata": {},
   "outputs": [
    {
     "name": "stdout",
     "output_type": "stream",
     "text": [
      "0.789, 0.811\n"
     ]
    }
   ],
   "source": [
    "model5 = LogisticRegression(C = 1, random_state=42)\\\n",
    "    .fit(X_train_5, y_train)\n",
    "print(f'{model5.score(X_train_5, y_train):.3f}, ' \n",
    "      f'{model5.score(X_val, y_val):.3f}')"
   ]
  },
  {
   "cell_type": "code",
   "execution_count": 21,
   "metadata": {},
   "outputs": [
    {
     "name": "stdout",
     "output_type": "stream",
     "text": [
      "0.782, 0.811\n"
     ]
    }
   ],
   "source": [
    "model5 = LogisticRegression(C = 10, random_state=42)\\\n",
    "    .fit(X_train_5, y_train)\n",
    "print(f'{model5.score(X_train_5, y_train):.3f}, ' \n",
    "      f'{model5.score(X_val, y_val):.3f}')"
   ]
  },
  {
   "cell_type": "code",
   "execution_count": 22,
   "metadata": {},
   "outputs": [
    {
     "name": "stdout",
     "output_type": "stream",
     "text": [
      "0.780, 0.811\n"
     ]
    }
   ],
   "source": [
    "model5 = LogisticRegression(C = 100, random_state=42)\\\n",
    "    .fit(X_train_5, y_train)\n",
    "print(f'{model5.score(X_train_5, y_train):.3f}, ' \n",
    "      f'{model5.score(X_val, y_val):.3f}')"
   ]
  },
  {
   "cell_type": "code",
   "execution_count": 23,
   "metadata": {},
   "outputs": [
    {
     "name": "stdout",
     "output_type": "stream",
     "text": [
      "0.780, 0.811\n"
     ]
    }
   ],
   "source": [
    "model5 = LogisticRegression(C = 1000, random_state=42)\\\n",
    "    .fit(X_train_5, y_train)\n",
    "print(f'{model5.score(X_train_5, y_train):.3f}, ' \n",
    "      f'{model5.score(X_val, y_val):.3f}')"
   ]
  },
  {
   "cell_type": "markdown",
   "metadata": {},
   "source": [
    "# Decision Tree"
   ]
  },
  {
   "cell_type": "code",
   "execution_count": 24,
   "metadata": {},
   "outputs": [
    {
     "data": {
      "text/plain": [
       "((569, 15), (143, 15), (179, 15))"
      ]
     },
     "execution_count": 24,
     "metadata": {},
     "output_type": "execute_result"
    }
   ],
   "source": [
    "train.shape, validate.shape, test.shape"
   ]
  },
  {
   "cell_type": "code",
   "execution_count": 25,
   "metadata": {},
   "outputs": [
    {
     "data": {
      "text/html": [
       "<div>\n",
       "<style scoped>\n",
       "    .dataframe tbody tr th:only-of-type {\n",
       "        vertical-align: middle;\n",
       "    }\n",
       "\n",
       "    .dataframe tbody tr th {\n",
       "        vertical-align: top;\n",
       "    }\n",
       "\n",
       "    .dataframe thead th {\n",
       "        text-align: right;\n",
       "    }\n",
       "</style>\n",
       "<table border=\"1\" class=\"dataframe\">\n",
       "  <thead>\n",
       "    <tr style=\"text-align: right;\">\n",
       "      <th></th>\n",
       "      <th>passenger_id</th>\n",
       "      <th>survived</th>\n",
       "      <th>pclass</th>\n",
       "      <th>sex</th>\n",
       "      <th>age</th>\n",
       "      <th>sibsp</th>\n",
       "      <th>parch</th>\n",
       "      <th>fare</th>\n",
       "      <th>class</th>\n",
       "      <th>embark_town</th>\n",
       "      <th>alone</th>\n",
       "      <th>sex_encoded</th>\n",
       "      <th>C</th>\n",
       "      <th>Q</th>\n",
       "      <th>S</th>\n",
       "    </tr>\n",
       "  </thead>\n",
       "  <tbody>\n",
       "    <tr>\n",
       "      <th>517</th>\n",
       "      <td>517</td>\n",
       "      <td>0</td>\n",
       "      <td>3</td>\n",
       "      <td>male</td>\n",
       "      <td>29.7</td>\n",
       "      <td>0</td>\n",
       "      <td>0</td>\n",
       "      <td>24.1500</td>\n",
       "      <td>Third</td>\n",
       "      <td>Queenstown</td>\n",
       "      <td>1</td>\n",
       "      <td>1</td>\n",
       "      <td>0.0</td>\n",
       "      <td>1.0</td>\n",
       "      <td>0.0</td>\n",
       "    </tr>\n",
       "    <tr>\n",
       "      <th>792</th>\n",
       "      <td>792</td>\n",
       "      <td>0</td>\n",
       "      <td>3</td>\n",
       "      <td>female</td>\n",
       "      <td>29.7</td>\n",
       "      <td>8</td>\n",
       "      <td>2</td>\n",
       "      <td>69.5500</td>\n",
       "      <td>Third</td>\n",
       "      <td>Southampton</td>\n",
       "      <td>0</td>\n",
       "      <td>0</td>\n",
       "      <td>0.0</td>\n",
       "      <td>0.0</td>\n",
       "      <td>1.0</td>\n",
       "    </tr>\n",
       "    <tr>\n",
       "      <th>472</th>\n",
       "      <td>472</td>\n",
       "      <td>1</td>\n",
       "      <td>2</td>\n",
       "      <td>female</td>\n",
       "      <td>33.0</td>\n",
       "      <td>1</td>\n",
       "      <td>2</td>\n",
       "      <td>27.7500</td>\n",
       "      <td>Second</td>\n",
       "      <td>Southampton</td>\n",
       "      <td>0</td>\n",
       "      <td>0</td>\n",
       "      <td>0.0</td>\n",
       "      <td>0.0</td>\n",
       "      <td>1.0</td>\n",
       "    </tr>\n",
       "    <tr>\n",
       "      <th>483</th>\n",
       "      <td>483</td>\n",
       "      <td>1</td>\n",
       "      <td>3</td>\n",
       "      <td>female</td>\n",
       "      <td>63.0</td>\n",
       "      <td>0</td>\n",
       "      <td>0</td>\n",
       "      <td>9.5875</td>\n",
       "      <td>Third</td>\n",
       "      <td>Southampton</td>\n",
       "      <td>1</td>\n",
       "      <td>0</td>\n",
       "      <td>0.0</td>\n",
       "      <td>0.0</td>\n",
       "      <td>1.0</td>\n",
       "    </tr>\n",
       "    <tr>\n",
       "      <th>9</th>\n",
       "      <td>9</td>\n",
       "      <td>1</td>\n",
       "      <td>2</td>\n",
       "      <td>female</td>\n",
       "      <td>14.0</td>\n",
       "      <td>1</td>\n",
       "      <td>0</td>\n",
       "      <td>30.0708</td>\n",
       "      <td>Second</td>\n",
       "      <td>Cherbourg</td>\n",
       "      <td>0</td>\n",
       "      <td>0</td>\n",
       "      <td>1.0</td>\n",
       "      <td>0.0</td>\n",
       "      <td>0.0</td>\n",
       "    </tr>\n",
       "  </tbody>\n",
       "</table>\n",
       "</div>"
      ],
      "text/plain": [
       "     passenger_id  survived  pclass     sex   age  sibsp  parch     fare  \\\n",
       "517           517         0       3    male  29.7      0      0  24.1500   \n",
       "792           792         0       3  female  29.7      8      2  69.5500   \n",
       "472           472         1       2  female  33.0      1      2  27.7500   \n",
       "483           483         1       3  female  63.0      0      0   9.5875   \n",
       "9               9         1       2  female  14.0      1      0  30.0708   \n",
       "\n",
       "      class  embark_town  alone  sex_encoded    C    Q    S  \n",
       "517   Third   Queenstown      1            1  0.0  1.0  0.0  \n",
       "792   Third  Southampton      0            0  0.0  0.0  1.0  \n",
       "472  Second  Southampton      0            0  0.0  0.0  1.0  \n",
       "483   Third  Southampton      1            0  0.0  0.0  1.0  \n",
       "9    Second    Cherbourg      0            0  1.0  0.0  0.0  "
      ]
     },
     "execution_count": 25,
     "metadata": {},
     "output_type": "execute_result"
    }
   ],
   "source": [
    "train.head()"
   ]
  },
  {
   "cell_type": "code",
   "execution_count": 26,
   "metadata": {},
   "outputs": [],
   "source": [
    "features = ['pclass','sex_encoded','age','fare','C','Q','S']\n",
    "X_train = train[features]\n",
    "y_train = train.survived\n",
    "X_validate = validate[features]\n",
    "y_validate = validate.survived\n",
    "X_test = test[features]\n",
    "y_test = test.survived"
   ]
  },
  {
   "cell_type": "code",
   "execution_count": 27,
   "metadata": {},
   "outputs": [
    {
     "data": {
      "text/plain": [
       "(0.8488576449912126, 0.8461538461538461, 0.7988826815642458)"
      ]
     },
     "execution_count": 27,
     "metadata": {},
     "output_type": "execute_result"
    }
   ],
   "source": [
    "clf = DecisionTreeClassifier(max_depth=5, random_state=42)\\\n",
    "      .fit(X_train, y_train)\n",
    "\n",
    "y_pred = clf.predict(X_train)\n",
    "\n",
    "clf.score(X_train, y_train), clf.score(X_validate, y_validate),\\\n",
    "clf.score(X_test, y_test)"
   ]
  },
  {
   "cell_type": "code",
   "execution_count": 28,
   "metadata": {},
   "outputs": [
    {
     "data": {
      "text/html": [
       "<div>\n",
       "<style scoped>\n",
       "    .dataframe tbody tr th:only-of-type {\n",
       "        vertical-align: middle;\n",
       "    }\n",
       "\n",
       "    .dataframe tbody tr th {\n",
       "        vertical-align: top;\n",
       "    }\n",
       "\n",
       "    .dataframe thead th {\n",
       "        text-align: right;\n",
       "    }\n",
       "</style>\n",
       "<table border=\"1\" class=\"dataframe\">\n",
       "  <thead>\n",
       "    <tr style=\"text-align: right;\">\n",
       "      <th></th>\n",
       "      <th>precision</th>\n",
       "      <th>recall</th>\n",
       "      <th>f1-score</th>\n",
       "      <th>support</th>\n",
       "    </tr>\n",
       "  </thead>\n",
       "  <tbody>\n",
       "    <tr>\n",
       "      <th>0</th>\n",
       "      <td>0.821853</td>\n",
       "      <td>0.969188</td>\n",
       "      <td>0.889460</td>\n",
       "      <td>357.000000</td>\n",
       "    </tr>\n",
       "    <tr>\n",
       "      <th>1</th>\n",
       "      <td>0.925676</td>\n",
       "      <td>0.646226</td>\n",
       "      <td>0.761111</td>\n",
       "      <td>212.000000</td>\n",
       "    </tr>\n",
       "    <tr>\n",
       "      <th>accuracy</th>\n",
       "      <td>0.848858</td>\n",
       "      <td>0.848858</td>\n",
       "      <td>0.848858</td>\n",
       "      <td>0.848858</td>\n",
       "    </tr>\n",
       "    <tr>\n",
       "      <th>macro avg</th>\n",
       "      <td>0.873764</td>\n",
       "      <td>0.807707</td>\n",
       "      <td>0.825286</td>\n",
       "      <td>569.000000</td>\n",
       "    </tr>\n",
       "    <tr>\n",
       "      <th>weighted avg</th>\n",
       "      <td>0.860535</td>\n",
       "      <td>0.848858</td>\n",
       "      <td>0.841639</td>\n",
       "      <td>569.000000</td>\n",
       "    </tr>\n",
       "  </tbody>\n",
       "</table>\n",
       "</div>"
      ],
      "text/plain": [
       "              precision    recall  f1-score     support\n",
       "0              0.821853  0.969188  0.889460  357.000000\n",
       "1              0.925676  0.646226  0.761111  212.000000\n",
       "accuracy       0.848858  0.848858  0.848858    0.848858\n",
       "macro avg      0.873764  0.807707  0.825286  569.000000\n",
       "weighted avg   0.860535  0.848858  0.841639  569.000000"
      ]
     },
     "execution_count": 28,
     "metadata": {},
     "output_type": "execute_result"
    }
   ],
   "source": [
    "report = pd.DataFrame(classification_report(y_train, y_pred, \n",
    "                                   output_dict=True)).T\n",
    "report"
   ]
  },
  {
   "cell_type": "code",
   "execution_count": 29,
   "metadata": {},
   "outputs": [
    {
     "data": {
      "text/html": [
       "<div>\n",
       "<style scoped>\n",
       "    .dataframe tbody tr th:only-of-type {\n",
       "        vertical-align: middle;\n",
       "    }\n",
       "\n",
       "    .dataframe tbody tr th {\n",
       "        vertical-align: top;\n",
       "    }\n",
       "\n",
       "    .dataframe thead tr th {\n",
       "        text-align: left;\n",
       "    }\n",
       "\n",
       "    .dataframe thead tr:last-of-type th {\n",
       "        text-align: right;\n",
       "    }\n",
       "</style>\n",
       "<table border=\"1\" class=\"dataframe\">\n",
       "  <thead>\n",
       "    <tr>\n",
       "      <th></th>\n",
       "      <th>0 predicted</th>\n",
       "      <th>1 predicted</th>\n",
       "    </tr>\n",
       "    <tr>\n",
       "      <th>actual</th>\n",
       "      <th></th>\n",
       "      <th></th>\n",
       "    </tr>\n",
       "  </thead>\n",
       "  <tbody>\n",
       "    <tr>\n",
       "      <th>0</th>\n",
       "      <td>346</td>\n",
       "      <td>11</td>\n",
       "    </tr>\n",
       "    <tr>\n",
       "      <th>1</th>\n",
       "      <td>75</td>\n",
       "      <td>137</td>\n",
       "    </tr>\n",
       "  </tbody>\n",
       "</table>\n",
       "</div>"
      ],
      "text/plain": [
       "       0 predicted 1 predicted\n",
       "actual                        \n",
       "0              346          11\n",
       "1               75         137"
      ]
     },
     "execution_count": 29,
     "metadata": {},
     "output_type": "execute_result"
    }
   ],
   "source": [
    "labels = sorted(y_train.unique().astype(str))\n",
    "predicted_labels = [name + \" predicted\" for name in labels]\n",
    "conf = pd.DataFrame(confusion_matrix(y_train, y_pred), \n",
    "                    index=labels, columns=[predicted_labels])\n",
    "conf.index.name = \"actual\"\n",
    "conf"
   ]
  },
  {
   "cell_type": "code",
   "execution_count": 30,
   "metadata": {},
   "outputs": [
    {
     "name": "stdout",
     "output_type": "stream",
     "text": [
      "precision      0.925676\n",
      "recall         0.646226\n",
      "f1-score       0.761111\n",
      "support      212.000000\n",
      "Name: 1, dtype: float64\n",
      "\n",
      "Accuracy is 84.9%\n",
      "True negative: 60.8%, false negative: 1.9%, true positive: 24.1%,  false positive: 13.2%\n"
     ]
    }
   ],
   "source": [
    "print(report.iloc[1])\n",
    "print(f'\\nAccuracy is {(report.loc[\"accuracy\"][0] * 100):.1f}%')\n",
    "C = confusion_matrix(y_train, y_pred)\n",
    "C = pd.DataFrame(C / C.astype(float).sum())\n",
    "C.columns = ['predicted 0', 'predicted 1']\n",
    "C.index = ['actual 0', 'actual 1']\n",
    "print(f'True negative: {(C.iloc[0][0] * 100):.1f}%, '\n",
    "      f'false negative: {(C.iloc[0][1] * 100):.1f}%, '\n",
    "      f'true positive: {(C.iloc[1][1] * 100):.1f}%,  '\n",
    "      f'false positive: {(C.iloc[1][0] * 100):.1f}%')"
   ]
  },
  {
   "cell_type": "code",
   "execution_count": 31,
   "metadata": {},
   "outputs": [],
   "source": [
    "def evaluate_results(y_pred, scaled=False):\n",
    "    report = pd.DataFrame(classification_report(y_train, y_pred, \n",
    "                                   output_dict=True)).T\n",
    "    labels = sorted(y_train.unique().astype(str))\n",
    "    predicted_labels = [name + \" predicted\" for name in labels]\n",
    "    conf = pd.DataFrame(confusion_matrix(y_train, y_pred), \n",
    "                        index=labels, columns=[predicted_labels])\n",
    "    conf.index.name = \"actual\"\n",
    "\n",
    "    print(report.iloc[1])\n",
    "    C = confusion_matrix(y_train, y_pred)\n",
    "    C = pd.DataFrame(C / C.astype(float).sum())\n",
    "    C.columns = ['predicted 0', 'predicted 1']\n",
    "    C.index = ['actual 0', 'actual 1']\n",
    "    print(f'True negative: {(C.iloc[0][0] * 100):.1f}%, '\n",
    "          f'false negative: {(C.iloc[0][1] * 100):.1f}%, '\n",
    "          f'true positive: {(C.iloc[1][1] * 100):.1f}%,  '\n",
    "          f'false positive: {(C.iloc[1][0] * 100):.1f}%')\n",
    "    print(f'\\nTrain accuracy is '\\\n",
    "          f'{(report.loc[\"accuracy\"][0]*100):.3f}%')\n",
    "    if scaled == False:\n",
    "          print(f'Val accuracy: '\\\n",
    "                f'{(rf.score(X_val, y_val)*100):.3f}%')\n",
    "    else:\n",
    "          print(f'Val accuracy: '\\\n",
    "                f'{(rf.score(X_val_scaled, y_val)*100):.3f}%')\n",
    "#     print(f'Test accuracy: '\\\n",
    "#                 f'{(rf.score(X_test, y_test) * 100):.3f}%')"
   ]
  },
  {
   "cell_type": "code",
   "execution_count": 32,
   "metadata": {},
   "outputs": [
    {
     "name": "stdout",
     "output_type": "stream",
     "text": [
      "precision      0.925676\n",
      "recall         0.646226\n",
      "f1-score       0.761111\n",
      "support      212.000000\n",
      "Name: 1, dtype: float64\n",
      "True negative: 60.8%, false negative: 1.9%, true positive: 24.1%,  false positive: 13.2%\n",
      "\n",
      "Train accuracy is 84.886%\n",
      "Val accuracy: 59.441%\n"
     ]
    }
   ],
   "source": [
    "rf = DecisionTreeClassifier(criterion='entropy', max_depth=5,\\\n",
    "                             random_state=42).fit(X_train, y_train)\n",
    "y_pred = clf.predict(X_train)\n",
    "evaluate_results(y_pred)"
   ]
  },
  {
   "cell_type": "markdown",
   "metadata": {},
   "source": [
    "# Random Forest"
   ]
  },
  {
   "cell_type": "code",
   "execution_count": 33,
   "metadata": {},
   "outputs": [
    {
     "name": "stdout",
     "output_type": "stream",
     "text": [
      "precision      0.985149\n",
      "recall         0.938679\n",
      "f1-score       0.961353\n",
      "support      212.000000\n",
      "Name: 1, dtype: float64\n",
      "True negative: 62.2%, false negative: 0.5%, true positive: 35.0%,  false positive: 2.3%\n",
      "\n",
      "Train accuracy is 97.188%\n",
      "Val accuracy: 59.441%\n"
     ]
    }
   ],
   "source": [
    "rf = RandomForestClassifier(random_state=42, min_samples_leaf = 1,\n",
    "                            max_depth = 20).fit(X_train, y_train)\n",
    "y_pred = rf.predict(X_train)\n",
    "evaluate_results(y_pred)"
   ]
  },
  {
   "cell_type": "code",
   "execution_count": 34,
   "metadata": {},
   "outputs": [
    {
     "name": "stdout",
     "output_type": "stream",
     "text": [
      "precision      0.859873\n",
      "recall         0.636792\n",
      "f1-score       0.731707\n",
      "support      212.000000\n",
      "Name: 1, dtype: float64\n",
      "True negative: 58.9%, false negative: 3.9%, true positive: 23.7%,  false positive: 13.5%\n",
      "\n",
      "Train accuracy is 82.601%\n",
      "Val accuracy: 58.741%\n"
     ]
    }
   ],
   "source": [
    "rf = RandomForestClassifier(random_state=42, min_samples_leaf = 5,\n",
    "                            max_depth = 3).fit(X_train, y_train)\n",
    "y_pred = rf.predict(X_train)\n",
    "evaluate_results(y_pred)"
   ]
  },
  {
   "cell_type": "markdown",
   "metadata": {},
   "source": [
    "# K Nearest Neighbors"
   ]
  },
  {
   "cell_type": "code",
   "execution_count": 35,
   "metadata": {},
   "outputs": [
    {
     "name": "stdout",
     "output_type": "stream",
     "text": [
      "precision      0.741935\n",
      "recall         0.650943\n",
      "f1-score       0.693467\n",
      "support      212.000000\n",
      "Name: 1, dtype: float64\n",
      "True negative: 54.3%, false negative: 8.4%, true positive: 24.3%,  false positive: 13.0%\n",
      "\n",
      "Train accuracy is 78.559%\n",
      "Val accuracy: 60.839%\n"
     ]
    }
   ],
   "source": [
    "rf = KNeighborsClassifier().fit(X_train, y_train)\n",
    "y_pred = rf.predict(X_train)\n",
    "evaluate_results(y_pred)"
   ]
  },
  {
   "cell_type": "code",
   "execution_count": 36,
   "metadata": {},
   "outputs": [
    {
     "name": "stdout",
     "output_type": "stream",
     "text": [
      "precision      0.751724\n",
      "recall         0.514151\n",
      "f1-score       0.610644\n",
      "support      212.000000\n",
      "Name: 1, dtype: float64\n",
      "True negative: 56.4%, false negative: 6.3%, true positive: 19.2%,  false positive: 18.1%\n",
      "\n",
      "Train accuracy is 75.571%\n",
      "Val accuracy: 60.839%\n"
     ]
    }
   ],
   "source": [
    "rf = KNeighborsClassifier(n_neighbors=10).fit(X_train, y_train)\n",
    "y_pred = rf.predict(X_train)\n",
    "evaluate_results(y_pred)"
   ]
  },
  {
   "cell_type": "code",
   "execution_count": 37,
   "metadata": {},
   "outputs": [
    {
     "name": "stdout",
     "output_type": "stream",
     "text": [
      "precision      0.769912\n",
      "recall         0.410377\n",
      "f1-score       0.535385\n",
      "support      212.000000\n",
      "Name: 1, dtype: float64\n",
      "True negative: 58.2%, false negative: 4.6%, true positive: 15.3%,  false positive: 22.0%\n",
      "\n",
      "Train accuracy is 73.462%\n",
      "Val accuracy: 60.140%\n"
     ]
    }
   ],
   "source": [
    "rf = KNeighborsClassifier(n_neighbors=20).fit(X_train, y_train)\n",
    "y_pred = rf.predict(X_train)\n",
    "evaluate_results(y_pred)"
   ]
  },
  {
   "cell_type": "code",
   "execution_count": 38,
   "metadata": {},
   "outputs": [
    {
     "data": {
      "text/html": [
       "<div>\n",
       "<style scoped>\n",
       "    .dataframe tbody tr th:only-of-type {\n",
       "        vertical-align: middle;\n",
       "    }\n",
       "\n",
       "    .dataframe tbody tr th {\n",
       "        vertical-align: top;\n",
       "    }\n",
       "\n",
       "    .dataframe thead th {\n",
       "        text-align: right;\n",
       "    }\n",
       "</style>\n",
       "<table border=\"1\" class=\"dataframe\">\n",
       "  <thead>\n",
       "    <tr style=\"text-align: right;\">\n",
       "      <th></th>\n",
       "      <th>pclass</th>\n",
       "      <th>sex_encoded</th>\n",
       "      <th>age</th>\n",
       "      <th>fare</th>\n",
       "      <th>C</th>\n",
       "      <th>Q</th>\n",
       "      <th>S</th>\n",
       "    </tr>\n",
       "  </thead>\n",
       "  <tbody>\n",
       "    <tr>\n",
       "      <th>517</th>\n",
       "      <td>3</td>\n",
       "      <td>1</td>\n",
       "      <td>29.7</td>\n",
       "      <td>24.1500</td>\n",
       "      <td>0.0</td>\n",
       "      <td>1.0</td>\n",
       "      <td>0.0</td>\n",
       "    </tr>\n",
       "    <tr>\n",
       "      <th>792</th>\n",
       "      <td>3</td>\n",
       "      <td>0</td>\n",
       "      <td>29.7</td>\n",
       "      <td>69.5500</td>\n",
       "      <td>0.0</td>\n",
       "      <td>0.0</td>\n",
       "      <td>1.0</td>\n",
       "    </tr>\n",
       "    <tr>\n",
       "      <th>472</th>\n",
       "      <td>2</td>\n",
       "      <td>0</td>\n",
       "      <td>33.0</td>\n",
       "      <td>27.7500</td>\n",
       "      <td>0.0</td>\n",
       "      <td>0.0</td>\n",
       "      <td>1.0</td>\n",
       "    </tr>\n",
       "    <tr>\n",
       "      <th>483</th>\n",
       "      <td>3</td>\n",
       "      <td>0</td>\n",
       "      <td>63.0</td>\n",
       "      <td>9.5875</td>\n",
       "      <td>0.0</td>\n",
       "      <td>0.0</td>\n",
       "      <td>1.0</td>\n",
       "    </tr>\n",
       "    <tr>\n",
       "      <th>9</th>\n",
       "      <td>2</td>\n",
       "      <td>0</td>\n",
       "      <td>14.0</td>\n",
       "      <td>30.0708</td>\n",
       "      <td>1.0</td>\n",
       "      <td>0.0</td>\n",
       "      <td>0.0</td>\n",
       "    </tr>\n",
       "  </tbody>\n",
       "</table>\n",
       "</div>"
      ],
      "text/plain": [
       "     pclass  sex_encoded   age     fare    C    Q    S\n",
       "517       3            1  29.7  24.1500  0.0  1.0  0.0\n",
       "792       3            0  29.7  69.5500  0.0  0.0  1.0\n",
       "472       2            0  33.0  27.7500  0.0  0.0  1.0\n",
       "483       3            0  63.0   9.5875  0.0  0.0  1.0\n",
       "9         2            0  14.0  30.0708  1.0  0.0  0.0"
      ]
     },
     "execution_count": 38,
     "metadata": {},
     "output_type": "execute_result"
    }
   ],
   "source": [
    "X_train.head()"
   ]
  },
  {
   "cell_type": "code",
   "execution_count": 39,
   "metadata": {},
   "outputs": [],
   "source": [
    "scaler = MinMaxScaler()\n",
    "X_train_scaled = X_train.copy()\n",
    "X_train_scaled[['age','fare']] = scaler.fit_transform\\\n",
    "                              (X_train[['age','fare']])\n",
    "X_val_scaled = X_val.copy()\n",
    "X_val_scaled[['age','fare']] = scaler.transform\\\n",
    "                            (X_val[['age','fare']])\n",
    "X_test_scaled = X_test.copy()\n",
    "X_test_scaled[['age','fare']] = scaler.transform\\\n",
    "                            (X_test[['age','fare']])"
   ]
  },
  {
   "cell_type": "code",
   "execution_count": 40,
   "metadata": {},
   "outputs": [
    {
     "name": "stdout",
     "output_type": "stream",
     "text": [
      "precision      0.818653\n",
      "recall         0.745283\n",
      "f1-score       0.780247\n",
      "support      212.000000\n",
      "Name: 1, dtype: float64\n",
      "True negative: 56.6%, false negative: 6.2%, true positive: 27.8%,  false positive: 9.5%\n",
      "\n",
      "Train accuracy is 84.359%\n",
      "Val accuracy: 62.238%\n"
     ]
    }
   ],
   "source": [
    "rf = KNeighborsClassifier().fit(X_train_scaled, y_train)\n",
    "y_pred = rf.predict(X_train_scaled)\n",
    "evaluate_results(y_pred, scaled=True)"
   ]
  },
  {
   "cell_type": "code",
   "execution_count": 41,
   "metadata": {},
   "outputs": [
    {
     "name": "stdout",
     "output_type": "stream",
     "text": [
      "precision      0.892086\n",
      "recall         0.584906\n",
      "f1-score       0.706553\n",
      "support      212.000000\n",
      "Name: 1, dtype: float64\n",
      "True negative: 60.1%, false negative: 2.6%, true positive: 21.8%,  false positive: 15.5%\n",
      "\n",
      "Train accuracy is 81.898%\n",
      "Val accuracy: 58.741%\n"
     ]
    }
   ],
   "source": [
    "rf = KNeighborsClassifier(n_neighbors=10)\\\n",
    "        .fit(X_train_scaled, y_train)\n",
    "y_pred = rf.predict(X_train_scaled)\n",
    "evaluate_results(y_pred, scaled=True)"
   ]
  },
  {
   "cell_type": "code",
   "execution_count": 42,
   "metadata": {},
   "outputs": [
    {
     "name": "stdout",
     "output_type": "stream",
     "text": [
      "precision      0.919355\n",
      "recall         0.537736\n",
      "f1-score       0.678571\n",
      "support      212.000000\n",
      "Name: 1, dtype: float64\n",
      "True negative: 61.0%, false negative: 1.8%, true positive: 20.0%,  false positive: 17.2%\n",
      "\n",
      "Train accuracy is 81.019%\n",
      "Val accuracy: 61.538%\n"
     ]
    }
   ],
   "source": [
    "rf = KNeighborsClassifier(n_neighbors=20)\\\n",
    "        .fit(X_train_scaled, y_train)\n",
    "y_pred = rf.predict(X_train_scaled)\n",
    "evaluate_results(y_pred, scaled=True)"
   ]
  },
  {
   "cell_type": "markdown",
   "metadata": {},
   "source": [
    "More neighbors makes the model worse, likely because the data is close together, so more points only gets further and further data"
   ]
  },
  {
   "cell_type": "markdown",
   "metadata": {},
   "source": [
    "# Testing"
   ]
  },
  {
   "cell_type": "code",
   "execution_count": 43,
   "metadata": {},
   "outputs": [
    {
     "data": {
      "text/plain": [
       "(0.789103690685413, 0.5944055944055944)"
      ]
     },
     "execution_count": 43,
     "metadata": {},
     "output_type": "execute_result"
    }
   ],
   "source": [
    "model = LogisticRegression(random_state=42).fit(X_train, y_train)\n",
    "model.score(X_train, y_train), model.score(X_val, y_val)"
   ]
  },
  {
   "cell_type": "code",
   "execution_count": 44,
   "metadata": {},
   "outputs": [
    {
     "data": {
      "text/plain": [
       "(0.7820738137082601, 0.5944055944055944)"
      ]
     },
     "execution_count": 44,
     "metadata": {},
     "output_type": "execute_result"
    }
   ],
   "source": [
    "model = LogisticRegression(C = 10, random_state=42)\\\n",
    "            .fit(X_train, y_train)\n",
    "model.score(X_train, y_train), model.score(X_val, y_val)"
   ]
  },
  {
   "cell_type": "code",
   "execution_count": 45,
   "metadata": {},
   "outputs": [
    {
     "data": {
      "text/plain": [
       "(0.9630931458699473, 0.5944055944055944)"
      ]
     },
     "execution_count": 45,
     "metadata": {},
     "output_type": "execute_result"
    }
   ],
   "source": [
    "rf = DecisionTreeClassifier(max_depth=15, random_state=42)\\\n",
    "      .fit(X_train, y_train)\n",
    "rf.score(X_train, y_train), rf.score(X_val, y_val)"
   ]
  },
  {
   "cell_type": "code",
   "execution_count": 46,
   "metadata": {},
   "outputs": [
    {
     "data": {
      "text/plain": [
       "(0.9701230228471002, 0.5944055944055944)"
      ]
     },
     "execution_count": 46,
     "metadata": {},
     "output_type": "execute_result"
    }
   ],
   "source": [
    "rf = RandomForestClassifier(random_state=42, min_samples_leaf = 1,\n",
    "                            max_depth = 15).fit(X_train, y_train)\n",
    "rf.score(X_train, y_train), rf.score(X_val, y_val)"
   ]
  },
  {
   "cell_type": "code",
   "execution_count": 47,
   "metadata": {},
   "outputs": [
    {
     "data": {
      "text/plain": [
       "(0.843585237258348, 0.6223776223776224)"
      ]
     },
     "execution_count": 47,
     "metadata": {},
     "output_type": "execute_result"
    }
   ],
   "source": [
    "rf = KNeighborsClassifier().fit(X_train_scaled, y_train)\n",
    "rf.score(X_train_scaled, y_train), rf.score(X_val_scaled, y_val)"
   ]
  },
  {
   "cell_type": "markdown",
   "metadata": {},
   "source": [
    "### Of all of these models, I got the best results with Random Forest."
   ]
  },
  {
   "cell_type": "code",
   "execution_count": 52,
   "metadata": {},
   "outputs": [],
   "source": [
    "features = ['pclass','sex_encoded','age','fare']\n",
    "X_train = train[features]\n",
    "y_train = train.survived\n",
    "X_val = validate[features]\n",
    "y_val = validate.survived\n",
    "X_test = test[features]\n",
    "y_test = test.survived"
   ]
  },
  {
   "cell_type": "code",
   "execution_count": 54,
   "metadata": {},
   "outputs": [
    {
     "data": {
      "text/plain": [
       "(0.9701230228471002, 0.8391608391608392)"
      ]
     },
     "execution_count": 54,
     "metadata": {},
     "output_type": "execute_result"
    }
   ],
   "source": [
    "rf = RandomForestClassifier(random_state=42, min_samples_leaf = 1,\n",
    "                            max_depth = 15).fit(X_train, y_train)\n",
    "rf.score(X_train, y_train), rf.score(X_val, y_val)"
   ]
  },
  {
   "cell_type": "code",
   "execution_count": null,
   "metadata": {},
   "outputs": [],
   "source": [
    "df = data('iris')\n",
    "train, test = split_scale.split_my_data(df, .8)\n",
    "train, validate = split_scale.split_my_data(train, .8)\n",
    "train.head()"
   ]
  },
  {
   "cell_type": "code",
   "execution_count": null,
   "metadata": {},
   "outputs": [],
   "source": []
  }
 ],
 "metadata": {
  "kernelspec": {
   "display_name": "Python 3",
   "language": "python",
   "name": "python3"
  },
  "language_info": {
   "codemirror_mode": {
    "name": "ipython",
    "version": 3
   },
   "file_extension": ".py",
   "mimetype": "text/x-python",
   "name": "python",
   "nbconvert_exporter": "python",
   "pygments_lexer": "ipython3",
   "version": "3.7.4"
  }
 },
 "nbformat": 4,
 "nbformat_minor": 2
}
