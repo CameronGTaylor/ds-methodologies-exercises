{
 "cells": [
  {
   "cell_type": "code",
   "execution_count": 1,
   "metadata": {},
   "outputs": [],
   "source": [
    "from sklearn.linear_model import LogisticRegression\n",
    "import pandas as pd\n",
    "import numpy as np\n",
    "import seaborn as sns\n",
    "import matplotlib.pyplot as plt\n",
    "import acquire, split_scale\n",
    "from sklearn.impute import SimpleImputer\n",
    "from sklearn.preprocessing import LabelEncoder, OneHotEncoder\n",
    "import warnings\n",
    "warnings.filterwarnings(\"ignore\")"
   ]
  },
  {
   "cell_type": "code",
   "execution_count": 2,
   "metadata": {},
   "outputs": [],
   "source": [
    "df = acquire.get_titanic_data()"
   ]
  },
  {
   "cell_type": "code",
   "execution_count": 3,
   "metadata": {},
   "outputs": [],
   "source": [
    "df.drop(columns=['deck'], inplace=True)\n",
    "df.embark_town = df.embark_town.fillna('Southampton')\n",
    "df.embarked = df.embarked.fillna('S')\n",
    "\n",
    "imputer = SimpleImputer(strategy='mean')\n",
    "imputer.fit(df[['age']])\n",
    "df.age = imputer.transform(df[['age']])\n",
    "df.age = df.age.round(1)"
   ]
  },
  {
   "cell_type": "code",
   "execution_count": 4,
   "metadata": {},
   "outputs": [],
   "source": [
    "encoder = LabelEncoder()\n",
    "encoder.fit(df.sex)\n",
    "df['sex_encoded'] = encoder.transform(df.sex)"
   ]
  },
  {
   "cell_type": "code",
   "execution_count": 5,
   "metadata": {},
   "outputs": [],
   "source": [
    "encoder = OneHotEncoder(sparse=False)\n",
    "encoder.fit_transform(df[['embarked']])\n",
    "cols = [c for c in encoder.categories_[0]]\n",
    "m_train = encoder.transform(df[['embarked']])\n",
    "encoded_train = pd.DataFrame(m_train, columns=cols, index=df.index)\n",
    "df = df.join(encoded_train).drop(columns='embarked')"
   ]
  },
  {
   "cell_type": "code",
   "execution_count": 6,
   "metadata": {},
   "outputs": [],
   "source": [
    "train, test = split_scale.split_my_data(df, .8)\n",
    "train, validate = split_scale.split_my_data(train, .8)"
   ]
  },
  {
   "cell_type": "code",
   "execution_count": 7,
   "metadata": {},
   "outputs": [
    {
     "data": {
      "text/plain": [
       "((569, 15), (143, 15), (179, 15))"
      ]
     },
     "execution_count": 7,
     "metadata": {},
     "output_type": "execute_result"
    }
   ],
   "source": [
    "train.shape, validate.shape, test.shape"
   ]
  },
  {
   "cell_type": "code",
   "execution_count": 8,
   "metadata": {},
   "outputs": [
    {
     "data": {
      "text/plain": [
       "0.687170474516696"
      ]
     },
     "execution_count": 8,
     "metadata": {},
     "output_type": "execute_result"
    }
   ],
   "source": [
    "X_train_2 = train[['pclass','fare']]\n",
    "y_train = train[['survived']]\n",
    "model2 = LogisticRegression(random_state=42).fit(X_train_2, y_train)\n",
    "# y_pred = model2.predict(X_train_2)\n",
    "# y_pred_prob = model2.predict_proba(X_train_2)\n",
    "model2.score(X_train_2, y_train)"
   ]
  },
  {
   "cell_type": "code",
   "execution_count": 9,
   "metadata": {},
   "outputs": [
    {
     "data": {
      "text/plain": [
       "0.6153846153846154"
      ]
     },
     "execution_count": 9,
     "metadata": {},
     "output_type": "execute_result"
    }
   ],
   "source": [
    "X_val = validate[['pclass','fare']]\n",
    "y_val = validate[['survived']]\n",
    "model2.score(X_val, y_val)"
   ]
  },
  {
   "cell_type": "code",
   "execution_count": 10,
   "metadata": {},
   "outputs": [
    {
     "data": {
      "text/plain": [
       "0.7012302284710018"
      ]
     },
     "execution_count": 10,
     "metadata": {},
     "output_type": "execute_result"
    }
   ],
   "source": [
    "X_train_3 = train[['pclass','fare','age']]\n",
    "model3 = LogisticRegression(random_state=42).fit(X_train_3, y_train)\n",
    "model3.score(X_train_3, y_train)"
   ]
  },
  {
   "cell_type": "code",
   "execution_count": 11,
   "metadata": {},
   "outputs": [
    {
     "data": {
      "text/plain": [
       "0.6643356643356644"
      ]
     },
     "execution_count": 11,
     "metadata": {},
     "output_type": "execute_result"
    }
   ],
   "source": [
    "X_val = validate[['pclass','fare','age']]\n",
    "model3.score(X_val, y_val)"
   ]
  },
  {
   "cell_type": "code",
   "execution_count": 12,
   "metadata": {},
   "outputs": [
    {
     "data": {
      "text/plain": [
       "0.7855887521968365"
      ]
     },
     "execution_count": 12,
     "metadata": {},
     "output_type": "execute_result"
    }
   ],
   "source": [
    "X_train_4 = train[['pclass','fare','age','sex_encoded']]\n",
    "model4 = LogisticRegression(random_state=42).fit(X_train_4, y_train)\n",
    "model4.score(X_train_4, y_train)"
   ]
  },
  {
   "cell_type": "code",
   "execution_count": 13,
   "metadata": {},
   "outputs": [
    {
     "data": {
      "text/plain": [
       "0.7972027972027972"
      ]
     },
     "execution_count": 13,
     "metadata": {},
     "output_type": "execute_result"
    }
   ],
   "source": [
    "X_val = validate[['pclass','fare','age','sex_encoded']]\n",
    "model4.score(X_val, y_val)"
   ]
  },
  {
   "cell_type": "code",
   "execution_count": 14,
   "metadata": {},
   "outputs": [
    {
     "data": {
      "text/plain": [
       "0.789103690685413"
      ]
     },
     "execution_count": 14,
     "metadata": {},
     "output_type": "execute_result"
    }
   ],
   "source": [
    "X_train_5 = train[['pclass','fare','age','sex_encoded',\n",
    "                  'C','Q','S']]\n",
    "model5 = LogisticRegression(random_state=42).fit(X_train_5, y_train)\n",
    "model5.score(X_train_5, y_train)"
   ]
  },
  {
   "cell_type": "code",
   "execution_count": 15,
   "metadata": {},
   "outputs": [
    {
     "data": {
      "text/plain": [
       "0.8111888111888111"
      ]
     },
     "execution_count": 15,
     "metadata": {},
     "output_type": "execute_result"
    }
   ],
   "source": [
    "X_val = validate[['pclass','fare','age','sex_encoded',\n",
    "                 'C','Q','S']]\n",
    "model5.score(X_val, y_val)"
   ]
  },
  {
   "cell_type": "code",
   "execution_count": 16,
   "metadata": {},
   "outputs": [
    {
     "data": {
      "text/plain": [
       "0.7877094972067039"
      ]
     },
     "execution_count": 16,
     "metadata": {},
     "output_type": "execute_result"
    }
   ],
   "source": [
    "X_test = test[['pclass','fare','age','sex_encoded',\n",
    "                  'C','Q','S']]\n",
    "y_test = test.survived\n",
    "model5.score(X_test, y_test)"
   ]
  },
  {
   "cell_type": "markdown",
   "metadata": {},
   "source": [
    "I do not believe my data is overfit, because the score is not significantly lower than it was for validate and train"
   ]
  },
  {
   "cell_type": "markdown",
   "metadata": {},
   "source": [
    "If the missing values in age were dropped rather than imputed, it drastically lowers the numnber of observations available to work with, making the validate data nearly useless"
   ]
  },
  {
   "cell_type": "markdown",
   "metadata": {},
   "source": [
    "Encoding sex with OneHot shouldn't affect the score much more than with LabelEncoder, because it is a binary choice."
   ]
  },
  {
   "cell_type": "code",
   "execution_count": 17,
   "metadata": {},
   "outputs": [
    {
     "name": "stdout",
     "output_type": "stream",
     "text": [
      "0.789, 0.811\n"
     ]
    }
   ],
   "source": [
    "model5 = LogisticRegression(random_state=42)\\\n",
    "    .fit(X_train_5, y_train)\n",
    "print(f'{model5.score(X_train_5, y_train):.3f}, ' \n",
    "      f'{model5.score(X_val, y_val):.3f}')"
   ]
  },
  {
   "cell_type": "code",
   "execution_count": 18,
   "metadata": {},
   "outputs": [
    {
     "name": "stdout",
     "output_type": "stream",
     "text": [
      "0.715, 0.685\n"
     ]
    }
   ],
   "source": [
    "model5 = LogisticRegression(C = .01, random_state=42)\\\n",
    "    .fit(X_train_5, y_train)\n",
    "print(f'{model5.score(X_train_5, y_train):.3f}, ' \n",
    "      f'{model5.score(X_val, y_val):.3f}')"
   ]
  },
  {
   "cell_type": "code",
   "execution_count": 19,
   "metadata": {},
   "outputs": [
    {
     "name": "stdout",
     "output_type": "stream",
     "text": [
      "0.773, 0.811\n"
     ]
    }
   ],
   "source": [
    "model5 = LogisticRegression(C = .1, random_state=42)\\\n",
    "    .fit(X_train_5, y_train)\n",
    "print(f'{model5.score(X_train_5, y_train):.3f}, ' \n",
    "      f'{model5.score(X_val, y_val):.3f}')"
   ]
  },
  {
   "cell_type": "code",
   "execution_count": 20,
   "metadata": {},
   "outputs": [
    {
     "name": "stdout",
     "output_type": "stream",
     "text": [
      "0.789, 0.811\n"
     ]
    }
   ],
   "source": [
    "model5 = LogisticRegression(C = 1, random_state=42)\\\n",
    "    .fit(X_train_5, y_train)\n",
    "print(f'{model5.score(X_train_5, y_train):.3f}, ' \n",
    "      f'{model5.score(X_val, y_val):.3f}')"
   ]
  },
  {
   "cell_type": "code",
   "execution_count": 21,
   "metadata": {},
   "outputs": [
    {
     "name": "stdout",
     "output_type": "stream",
     "text": [
      "0.782, 0.811\n"
     ]
    }
   ],
   "source": [
    "model5 = LogisticRegression(C = 10, random_state=42)\\\n",
    "    .fit(X_train_5, y_train)\n",
    "print(f'{model5.score(X_train_5, y_train):.3f}, ' \n",
    "      f'{model5.score(X_val, y_val):.3f}')"
   ]
  },
  {
   "cell_type": "code",
   "execution_count": 22,
   "metadata": {},
   "outputs": [
    {
     "name": "stdout",
     "output_type": "stream",
     "text": [
      "0.780, 0.811\n"
     ]
    }
   ],
   "source": [
    "model5 = LogisticRegression(C = 100, random_state=42)\\\n",
    "    .fit(X_train_5, y_train)\n",
    "print(f'{model5.score(X_train_5, y_train):.3f}, ' \n",
    "      f'{model5.score(X_val, y_val):.3f}')"
   ]
  },
  {
   "cell_type": "code",
   "execution_count": 23,
   "metadata": {},
   "outputs": [
    {
     "name": "stdout",
     "output_type": "stream",
     "text": [
      "0.780, 0.811\n"
     ]
    }
   ],
   "source": [
    "model5 = LogisticRegression(C = 1000, random_state=42)\\\n",
    "    .fit(X_train_5, y_train)\n",
    "print(f'{model5.score(X_train_5, y_train):.3f}, ' \n",
    "      f'{model5.score(X_val, y_val):.3f}')"
   ]
  },
  {
   "cell_type": "code",
   "execution_count": null,
   "metadata": {},
   "outputs": [],
   "source": []
  }
 ],
 "metadata": {
  "kernelspec": {
   "display_name": "Python 3",
   "language": "python",
   "name": "python3"
  },
  "language_info": {
   "codemirror_mode": {
    "name": "ipython",
    "version": 3
   },
   "file_extension": ".py",
   "mimetype": "text/x-python",
   "name": "python",
   "nbconvert_exporter": "python",
   "pygments_lexer": "ipython3",
   "version": "3.7.4"
  }
 },
 "nbformat": 4,
 "nbformat_minor": 2
}
