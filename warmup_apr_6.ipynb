{
 "cells": [
  {
   "cell_type": "markdown",
   "metadata": {},
   "source": [
    "# Dataframe Manipulation Warmup"
   ]
  },
  {
   "cell_type": "code",
   "execution_count": 1,
   "metadata": {},
   "outputs": [],
   "source": [
    "import numpy as np\n",
    "import pandas as pd\n",
    "\n",
    "np.random.seed(406)\n",
    "\n",
    "n = 5000\n",
    "df = pd.DataFrame({\n",
    "    'favorite_animal': np.random.choice(['cat', 'dog', 'frog', 'lemur', 'panda'], n),\n",
    "    'favorite_vegetable': np.random.choice(['brussel sprouts', 'potato', 'squash'], n),\n",
    "    'favorite_fruit': np.random.choice(['banana', 'apple', 'blueberries'], n),\n",
    "    'wears_glasses': np.random.choice(['yes', 'no'], n),\n",
    "    'netflix_consumption': np.random.normal(10, 2, n),\n",
    "    'open_browser_tabs': np.random.randint(2, 90, n),\n",
    "})"
   ]
  },
  {
   "cell_type": "markdown",
   "metadata": {},
   "source": [
    "- What is the highest amount of netflix consumption? `17.535`\n",
    "- How many people wear glasses? What percentage of people is this? `2555`, `.511`\n",
    "- How many people's favorite animal is a dog? `1002`\n",
    "- What is the most common favorite animal? `lemur`\n",
    "- What is the average netflix consumption for people that prefer brussel\n",
    "  sprouts? `10.008`\n",
    "- What is the most common favorite fruit for people who wear glasses and have\n",
    "  more than 40 open browser tabs? `blueberries`\n",
    "- What percentage of people have a netflix consumption lower than 7? `.0716`\n",
    "- What is the average netflix consumption for people with less than 30 open\n",
    "  browser tabs? `9.91935`\n",
    "- How many people *don't* wear glasses, have a favorite animal of a panda, have\n",
    "  a favorite fruit of blueberries, and have more than 60 open browser tabs? What\n",
    "  is the median netflix consumption for this group? What is the most common\n",
    "  favorite vegetable for this group? `46`, `10.455`, `potato`\n",
    "- What is the least popular combination of favorite fruit and vegetable? `apple` and `potato`\n",
    "- Which combination of favorite animal and wearing glasses has the highest average\n",
    "  netflix consumption? people that wear glasses and prefer pandas\n",
    "- **Bonus**: for each of the above questions, what kind of visualization would\n",
    "  be the most effective in conveying your answer?"
   ]
  },
  {
   "cell_type": "code",
   "execution_count": 7,
   "metadata": {},
   "outputs": [
    {
     "data": {
      "text/plain": [
       "17.534818515438925"
      ]
     },
     "execution_count": 7,
     "metadata": {},
     "output_type": "execute_result"
    }
   ],
   "source": [
    "df.netflix_consumption.max()"
   ]
  },
  {
   "cell_type": "code",
   "execution_count": 83,
   "metadata": {},
   "outputs": [
    {
     "data": {
      "text/plain": [
       "0.511"
      ]
     },
     "execution_count": 83,
     "metadata": {},
     "output_type": "execute_result"
    }
   ],
   "source": [
    "(df.wears_glasses == 'yes').mean()"
   ]
  },
  {
   "cell_type": "code",
   "execution_count": 15,
   "metadata": {},
   "outputs": [
    {
     "data": {
      "text/plain": [
       "1002"
      ]
     },
     "execution_count": 15,
     "metadata": {},
     "output_type": "execute_result"
    }
   ],
   "source": [
    "(df.favorite_animal == 'dog').sum()"
   ]
  },
  {
   "cell_type": "code",
   "execution_count": 30,
   "metadata": {},
   "outputs": [
    {
     "data": {
      "text/plain": [
       "'lemur'"
      ]
     },
     "execution_count": 30,
     "metadata": {},
     "output_type": "execute_result"
    }
   ],
   "source": [
    "df.favorite_animal.value_counts().index[0]"
   ]
  },
  {
   "cell_type": "code",
   "execution_count": 36,
   "metadata": {},
   "outputs": [
    {
     "data": {
      "text/plain": [
       "10.00847154798366"
      ]
     },
     "execution_count": 36,
     "metadata": {},
     "output_type": "execute_result"
    }
   ],
   "source": [
    "(df.netflix_consumption[df.favorite_vegetable == \n",
    "                            'brussel sprouts']).mean()"
   ]
  },
  {
   "cell_type": "code",
   "execution_count": 48,
   "metadata": {},
   "outputs": [
    {
     "data": {
      "text/plain": [
       "'blueberries'"
      ]
     },
     "execution_count": 48,
     "metadata": {},
     "output_type": "execute_result"
    }
   ],
   "source": [
    "df.favorite_fruit[(df.wears_glasses == 'yes') & \n",
    "            (df.open_browser_tabs > 40)].value_counts().index[0]"
   ]
  },
  {
   "cell_type": "code",
   "execution_count": 84,
   "metadata": {},
   "outputs": [
    {
     "data": {
      "text/plain": [
       "0.0716"
      ]
     },
     "execution_count": 84,
     "metadata": {},
     "output_type": "execute_result"
    }
   ],
   "source": [
    "(df.netflix_consumption < 7).mean()"
   ]
  },
  {
   "cell_type": "code",
   "execution_count": 50,
   "metadata": {},
   "outputs": [
    {
     "data": {
      "text/plain": [
       "9.91935736918227"
      ]
     },
     "execution_count": 50,
     "metadata": {},
     "output_type": "execute_result"
    }
   ],
   "source": [
    "(df.netflix_consumption[df.open_browser_tabs < 30]).mean()"
   ]
  },
  {
   "cell_type": "code",
   "execution_count": 85,
   "metadata": {},
   "outputs": [
    {
     "data": {
      "text/plain": [
       "46"
      ]
     },
     "execution_count": 85,
     "metadata": {},
     "output_type": "execute_result"
    }
   ],
   "source": [
    "((df.wears_glasses == 'no') & \n",
    " (df.favorite_animal == 'panda') & \n",
    " (df.favorite_fruit == 'blueberries') & \n",
    " (df.open_browser_tabs > 60)).sum()"
   ]
  },
  {
   "cell_type": "code",
   "execution_count": 87,
   "metadata": {},
   "outputs": [
    {
     "data": {
      "text/plain": [
       "46"
      ]
     },
     "execution_count": 87,
     "metadata": {},
     "output_type": "execute_result"
    }
   ],
   "source": [
    "mask = ((df.wears_glasses == 'no') & \n",
    " (df.favorite_animal == 'panda') & \n",
    " (df.favorite_fruit == 'blueberries') & \n",
    " (df.open_browser_tabs > 60))\n",
    "mask.sum()"
   ]
  },
  {
   "cell_type": "code",
   "execution_count": 81,
   "metadata": {},
   "outputs": [
    {
     "data": {
      "text/plain": [
       "10.45479760071613"
      ]
     },
     "execution_count": 81,
     "metadata": {},
     "output_type": "execute_result"
    }
   ],
   "source": [
    "df.netflix_consumption[(df.wears_glasses == 'no') & \n",
    "    (df.favorite_animal == 'panda') & \n",
    "    (df.favorite_fruit == 'blueberries') & \n",
    "    (df.open_browser_tabs > 60)].median()"
   ]
  },
  {
   "cell_type": "code",
   "execution_count": 88,
   "metadata": {},
   "outputs": [
    {
     "data": {
      "text/plain": [
       "10.45479760071613"
      ]
     },
     "execution_count": 88,
     "metadata": {},
     "output_type": "execute_result"
    }
   ],
   "source": [
    "df[mask].netflix_consumption.median()"
   ]
  },
  {
   "cell_type": "code",
   "execution_count": 86,
   "metadata": {},
   "outputs": [
    {
     "data": {
      "text/plain": [
       "'potato'"
      ]
     },
     "execution_count": 86,
     "metadata": {},
     "output_type": "execute_result"
    }
   ],
   "source": [
    "df.favorite_vegetable[(df.wears_glasses == 'no') & \n",
    "    (df.favorite_animal == 'panda') & \n",
    "    (df.favorite_fruit == 'blueberries') & \n",
    "    (df.open_browser_tabs > 60)].value_counts().index[0]"
   ]
  },
  {
   "cell_type": "code",
   "execution_count": 89,
   "metadata": {},
   "outputs": [
    {
     "data": {
      "text/plain": [
       "'potato'"
      ]
     },
     "execution_count": 89,
     "metadata": {},
     "output_type": "execute_result"
    }
   ],
   "source": [
    "df[mask].favorite_vegetable.value_counts().index[0]"
   ]
  },
  {
   "cell_type": "markdown",
   "metadata": {},
   "source": [
    "What is the least popular combination of favorite fruit and vegetable? apple and potato"
   ]
  },
  {
   "cell_type": "code",
   "execution_count": 56,
   "metadata": {},
   "outputs": [
    {
     "data": {
      "text/html": [
       "<div>\n",
       "<style scoped>\n",
       "    .dataframe tbody tr th:only-of-type {\n",
       "        vertical-align: middle;\n",
       "    }\n",
       "\n",
       "    .dataframe tbody tr th {\n",
       "        vertical-align: top;\n",
       "    }\n",
       "\n",
       "    .dataframe thead th {\n",
       "        text-align: right;\n",
       "    }\n",
       "</style>\n",
       "<table border=\"1\" class=\"dataframe\">\n",
       "  <thead>\n",
       "    <tr style=\"text-align: right;\">\n",
       "      <th></th>\n",
       "      <th>favorite_animal</th>\n",
       "      <th>favorite_vegetable</th>\n",
       "      <th>favorite_fruit</th>\n",
       "      <th>wears_glasses</th>\n",
       "      <th>netflix_consumption</th>\n",
       "      <th>open_browser_tabs</th>\n",
       "    </tr>\n",
       "  </thead>\n",
       "  <tbody>\n",
       "    <tr>\n",
       "      <th>0</th>\n",
       "      <td>lemur</td>\n",
       "      <td>potato</td>\n",
       "      <td>apple</td>\n",
       "      <td>yes</td>\n",
       "      <td>8.313351</td>\n",
       "      <td>44</td>\n",
       "    </tr>\n",
       "    <tr>\n",
       "      <th>1</th>\n",
       "      <td>panda</td>\n",
       "      <td>potato</td>\n",
       "      <td>apple</td>\n",
       "      <td>yes</td>\n",
       "      <td>11.801073</td>\n",
       "      <td>10</td>\n",
       "    </tr>\n",
       "    <tr>\n",
       "      <th>2</th>\n",
       "      <td>cat</td>\n",
       "      <td>squash</td>\n",
       "      <td>blueberries</td>\n",
       "      <td>yes</td>\n",
       "      <td>10.105141</td>\n",
       "      <td>35</td>\n",
       "    </tr>\n",
       "    <tr>\n",
       "      <th>3</th>\n",
       "      <td>lemur</td>\n",
       "      <td>squash</td>\n",
       "      <td>apple</td>\n",
       "      <td>no</td>\n",
       "      <td>11.024605</td>\n",
       "      <td>70</td>\n",
       "    </tr>\n",
       "    <tr>\n",
       "      <th>4</th>\n",
       "      <td>dog</td>\n",
       "      <td>brussel sprouts</td>\n",
       "      <td>apple</td>\n",
       "      <td>yes</td>\n",
       "      <td>6.732698</td>\n",
       "      <td>73</td>\n",
       "    </tr>\n",
       "  </tbody>\n",
       "</table>\n",
       "</div>"
      ],
      "text/plain": [
       "  favorite_animal favorite_vegetable favorite_fruit wears_glasses  \\\n",
       "0           lemur             potato          apple           yes   \n",
       "1           panda             potato          apple           yes   \n",
       "2             cat             squash    blueberries           yes   \n",
       "3           lemur             squash          apple            no   \n",
       "4             dog    brussel sprouts          apple           yes   \n",
       "\n",
       "   netflix_consumption  open_browser_tabs  \n",
       "0             8.313351                 44  \n",
       "1            11.801073                 10  \n",
       "2            10.105141                 35  \n",
       "3            11.024605                 70  \n",
       "4             6.732698                 73  "
      ]
     },
     "execution_count": 56,
     "metadata": {},
     "output_type": "execute_result"
    }
   ],
   "source": [
    "df.head()"
   ]
  },
  {
   "cell_type": "code",
   "execution_count": 65,
   "metadata": {},
   "outputs": [],
   "source": [
    "df['fruit_and_veggie'] = (df.favorite_fruit \n",
    "                    + ' and ' + df.favorite_vegetable)"
   ]
  },
  {
   "cell_type": "code",
   "execution_count": 68,
   "metadata": {},
   "outputs": [
    {
     "data": {
      "text/plain": [
       "'apple and potato'"
      ]
     },
     "execution_count": 68,
     "metadata": {},
     "output_type": "execute_result"
    }
   ],
   "source": [
    "df.fruit_and_veggie.value_counts().index[-1]"
   ]
  },
  {
   "cell_type": "code",
   "execution_count": 90,
   "metadata": {},
   "outputs": [
    {
     "data": {
      "text/plain": [
       "favorite_fruit  favorite_vegetable\n",
       "apple           potato                512\n",
       "banana          squash                524\n",
       "apple           squash                555\n",
       "blueberries     brussel sprouts       555\n",
       "                potato                560\n",
       "apple           brussel sprouts       565\n",
       "banana          potato                570\n",
       "                brussel sprouts       576\n",
       "blueberries     squash                583\n",
       "dtype: int64"
      ]
     },
     "execution_count": 90,
     "metadata": {},
     "output_type": "execute_result"
    }
   ],
   "source": [
    "df.groupby(['favorite_fruit', 'favorite_vegetable']).size().sort_values()"
   ]
  },
  {
   "cell_type": "markdown",
   "metadata": {},
   "source": [
    "Which combination of favorite animal and wearing glasses has the highest average netflix consumption? people that wear glasses and prefer pandas"
   ]
  },
  {
   "cell_type": "code",
   "execution_count": 71,
   "metadata": {},
   "outputs": [
    {
     "data": {
      "text/html": [
       "<div>\n",
       "<style scoped>\n",
       "    .dataframe tbody tr th:only-of-type {\n",
       "        vertical-align: middle;\n",
       "    }\n",
       "\n",
       "    .dataframe tbody tr th {\n",
       "        vertical-align: top;\n",
       "    }\n",
       "\n",
       "    .dataframe thead th {\n",
       "        text-align: right;\n",
       "    }\n",
       "</style>\n",
       "<table border=\"1\" class=\"dataframe\">\n",
       "  <thead>\n",
       "    <tr style=\"text-align: right;\">\n",
       "      <th></th>\n",
       "      <th>favorite_animal</th>\n",
       "      <th>favorite_vegetable</th>\n",
       "      <th>favorite_fruit</th>\n",
       "      <th>wears_glasses</th>\n",
       "      <th>netflix_consumption</th>\n",
       "      <th>open_browser_tabs</th>\n",
       "      <th>fruit_and_veggie</th>\n",
       "      <th>ave_cons</th>\n",
       "    </tr>\n",
       "  </thead>\n",
       "  <tbody>\n",
       "    <tr>\n",
       "      <th>0</th>\n",
       "      <td>lemur</td>\n",
       "      <td>potato</td>\n",
       "      <td>apple</td>\n",
       "      <td>yes</td>\n",
       "      <td>8.313351</td>\n",
       "      <td>44</td>\n",
       "      <td>apple and potato</td>\n",
       "      <td>yes, lemur</td>\n",
       "    </tr>\n",
       "    <tr>\n",
       "      <th>1</th>\n",
       "      <td>panda</td>\n",
       "      <td>potato</td>\n",
       "      <td>apple</td>\n",
       "      <td>yes</td>\n",
       "      <td>11.801073</td>\n",
       "      <td>10</td>\n",
       "      <td>apple and potato</td>\n",
       "      <td>yes, panda</td>\n",
       "    </tr>\n",
       "    <tr>\n",
       "      <th>2</th>\n",
       "      <td>cat</td>\n",
       "      <td>squash</td>\n",
       "      <td>blueberries</td>\n",
       "      <td>yes</td>\n",
       "      <td>10.105141</td>\n",
       "      <td>35</td>\n",
       "      <td>blueberries and squash</td>\n",
       "      <td>yes, cat</td>\n",
       "    </tr>\n",
       "    <tr>\n",
       "      <th>3</th>\n",
       "      <td>lemur</td>\n",
       "      <td>squash</td>\n",
       "      <td>apple</td>\n",
       "      <td>no</td>\n",
       "      <td>11.024605</td>\n",
       "      <td>70</td>\n",
       "      <td>apple and squash</td>\n",
       "      <td>no, lemur</td>\n",
       "    </tr>\n",
       "    <tr>\n",
       "      <th>4</th>\n",
       "      <td>dog</td>\n",
       "      <td>brussel sprouts</td>\n",
       "      <td>apple</td>\n",
       "      <td>yes</td>\n",
       "      <td>6.732698</td>\n",
       "      <td>73</td>\n",
       "      <td>apple and brussel sprouts</td>\n",
       "      <td>yes, dog</td>\n",
       "    </tr>\n",
       "  </tbody>\n",
       "</table>\n",
       "</div>"
      ],
      "text/plain": [
       "  favorite_animal favorite_vegetable favorite_fruit wears_glasses  \\\n",
       "0           lemur             potato          apple           yes   \n",
       "1           panda             potato          apple           yes   \n",
       "2             cat             squash    blueberries           yes   \n",
       "3           lemur             squash          apple            no   \n",
       "4             dog    brussel sprouts          apple           yes   \n",
       "\n",
       "   netflix_consumption  open_browser_tabs           fruit_and_veggie  \\\n",
       "0             8.313351                 44           apple and potato   \n",
       "1            11.801073                 10           apple and potato   \n",
       "2            10.105141                 35     blueberries and squash   \n",
       "3            11.024605                 70           apple and squash   \n",
       "4             6.732698                 73  apple and brussel sprouts   \n",
       "\n",
       "     ave_cons  \n",
       "0  yes, lemur  \n",
       "1  yes, panda  \n",
       "2    yes, cat  \n",
       "3   no, lemur  \n",
       "4    yes, dog  "
      ]
     },
     "execution_count": 71,
     "metadata": {},
     "output_type": "execute_result"
    }
   ],
   "source": [
    "df['ave_cons'] = df.wears_glasses + ', ' +df.favorite_animal\n",
    "df.head()"
   ]
  },
  {
   "cell_type": "code",
   "execution_count": 80,
   "metadata": {},
   "outputs": [
    {
     "data": {
      "text/plain": [
       "'yes, panda'"
      ]
     },
     "execution_count": 80,
     "metadata": {},
     "output_type": "execute_result"
    }
   ],
   "source": [
    "df.groupby(by='ave_cons').netflix_consumption.mean().sort_values().index[-1]\n"
   ]
  },
  {
   "cell_type": "code",
   "execution_count": 91,
   "metadata": {},
   "outputs": [
    {
     "data": {
      "text/html": [
       "<div>\n",
       "<style scoped>\n",
       "    .dataframe tbody tr th:only-of-type {\n",
       "        vertical-align: middle;\n",
       "    }\n",
       "\n",
       "    .dataframe tbody tr th {\n",
       "        vertical-align: top;\n",
       "    }\n",
       "\n",
       "    .dataframe thead th {\n",
       "        text-align: right;\n",
       "    }\n",
       "</style>\n",
       "<table border=\"1\" class=\"dataframe\">\n",
       "  <thead>\n",
       "    <tr style=\"text-align: right;\">\n",
       "      <th>wears_glasses</th>\n",
       "      <th>no</th>\n",
       "      <th>yes</th>\n",
       "    </tr>\n",
       "    <tr>\n",
       "      <th>favorite_animal</th>\n",
       "      <th></th>\n",
       "      <th></th>\n",
       "    </tr>\n",
       "  </thead>\n",
       "  <tbody>\n",
       "    <tr>\n",
       "      <th>cat</th>\n",
       "      <td>9.846183</td>\n",
       "      <td>9.884685</td>\n",
       "    </tr>\n",
       "    <tr>\n",
       "      <th>dog</th>\n",
       "      <td>9.933246</td>\n",
       "      <td>10.087352</td>\n",
       "    </tr>\n",
       "    <tr>\n",
       "      <th>frog</th>\n",
       "      <td>9.962311</td>\n",
       "      <td>9.834740</td>\n",
       "    </tr>\n",
       "    <tr>\n",
       "      <th>lemur</th>\n",
       "      <td>10.024557</td>\n",
       "      <td>10.010196</td>\n",
       "    </tr>\n",
       "    <tr>\n",
       "      <th>panda</th>\n",
       "      <td>9.946293</td>\n",
       "      <td>10.092273</td>\n",
       "    </tr>\n",
       "  </tbody>\n",
       "</table>\n",
       "</div>"
      ],
      "text/plain": [
       "wears_glasses           no        yes\n",
       "favorite_animal                      \n",
       "cat               9.846183   9.884685\n",
       "dog               9.933246  10.087352\n",
       "frog              9.962311   9.834740\n",
       "lemur            10.024557  10.010196\n",
       "panda             9.946293  10.092273"
      ]
     },
     "execution_count": 91,
     "metadata": {},
     "output_type": "execute_result"
    }
   ],
   "source": [
    "df.pivot_table('netflix_consumption', 'favorite_animal', 'wears_glasses')"
   ]
  },
  {
   "cell_type": "markdown",
   "metadata": {},
   "source": [
    "What is the highest amount of netflix consumption? 17.535\n",
    "- barchart\n",
    "\n",
    "How many people wear glasses? What percentage of people is this? 2555, .511\n",
    "- pie chart\n",
    "\n",
    "How many people's favorite animal is a dog? 1002\n",
    "- infographic\n",
    "\n",
    "What is the most common favorite animal? lemur\n",
    "- barchart\n",
    "\n",
    "What is the average netflix consumption for people that prefer brussel sprouts? 10.008\n",
    "- box and whisker plot\n",
    "\n",
    "What is the most common favorite fruit for people who wear glasses and have more than 40 open browser tabs? blueberries\n",
    "- barchart\n",
    "\n",
    "What percentage of people have a netflix consumption lower than 7? .0716\n",
    "- pie chart\n",
    "\n",
    "What is the average netflix consumption for people with less than 30 open browser tabs? 9.91935\n",
    "- box and whisker plot\n",
    "\n",
    "How many people don't wear glasses, have a favorite animal of a panda, have a favorite fruit of blueberries, and have more than 60 open browser tabs? What is the median netflix consumption for this group? What is the most common favorite vegetable for this group? 46, 10.455, potato\n",
    "- combination infographic\n",
    "\n",
    "What is the least popular combination of favorite fruit and vegetable? apple and potato\n",
    "- barchart\n",
    "\n",
    "Which combination of favorite animal and wearing glasses has the highest average netflix consumption? people that wear glasses and prefer pandas\n",
    "- barchart"
   ]
  },
  {
   "cell_type": "code",
   "execution_count": null,
   "metadata": {},
   "outputs": [],
   "source": []
  }
 ],
 "metadata": {
  "kernelspec": {
   "display_name": "Python 3",
   "language": "python",
   "name": "python3"
  },
  "language_info": {
   "codemirror_mode": {
    "name": "ipython",
    "version": 3
   },
   "file_extension": ".py",
   "mimetype": "text/x-python",
   "name": "python",
   "nbconvert_exporter": "python",
   "pygments_lexer": "ipython3",
   "version": "3.7.4"
  }
 },
 "nbformat": 4,
 "nbformat_minor": 2
}
